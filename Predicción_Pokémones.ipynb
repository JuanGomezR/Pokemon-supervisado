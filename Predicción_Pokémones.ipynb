{
  "cells": [
    {
      "cell_type": "markdown",
      "metadata": {
        "id": "plsQ9b2klgg3"
      },
      "source": [
        "# Proyecto de Predicción \"Clasificador De Pokémones\"\n",
        "\n",
        "El carácter de este proyecto es netamente educativo, su objetivo es hacer una demostración paso a paso de cómo entrenar un modelo de aprendizaje supervisado para la clasificación de datos en base a características compartidas entre categorías en un Dataset, utilizando varios modelos basados en árboles de decisión de la librería Scikit-Learn.\n",
        "\n",
        "El Dataset que utilizaremos está contenido dentro de esta carpeta como 'Pokemon.csv'; la descripción de este Dataset y sus variables también se encuentra en esta carpeta como 'Pokemon_summary.txt'. El archivo 'Pokemon.csv' fue adaptado de: https://www.kaggle.com/datasets/rounakbanik/pokemon\n",
        "\n",
        "La razón por la que utilizaremos este Dataset es porque es relativamente pequeño (1072 datos); fácil de entender y explicar; presenta datos de tipo String, Int, y categóricos; y requiere de preprocesamiento, pues tiene algunos errores de imputación y datos atípicos. Además de esto, el Dataset presenta varias variables categóricas que pueden ser usadas para predicciones.\n",
        "\n",
        "Algunos de los desafíos que vamos a enfrentar con este Dataset incluyen:\n",
        "\n",
        "* Valores atípicos severos\n",
        "* Categorías desbalanceadas\n",
        "* Datos mal escritos\n",
        "* Valores faltantes\n",
        "* Datos repetidos\n",
        "\n",
        "Además, algunos de los desafíos que vamos a enfrentar a la hora de entrenar los modelos incluyen:\n",
        "\n",
        "* Identificación de tendencias\n",
        "* Evaluación de métricas\n",
        "* Selección de métricas correctas para un Dataset desbalanceado\n",
        "* Corrección de sobreajuste\n",
        "* Variables irrelevantes.\n"
      ]
    },
    {
      "cell_type": "markdown",
      "metadata": {
        "id": "H3FwYOoWn8sp"
      },
      "source": [
        "## 1. Definición del problema"
      ]
    },
    {
      "cell_type": "markdown",
      "metadata": {
        "id": "m0FmVu_moR9k"
      },
      "source": [
        "La primera pregunta que nos debemos hacer es ¿'Qué queremos predecir?', este Dataset contine múltiples variables de tipo categóricas y una variable de tipo Booleano que son buenas candidatas para ser utilizadas como etiquetas, siendo así, podríamos entrenar múltiples modelos de predicción con diferentes objetivos utilizando el mismo Dataset, por ejemplo:\n",
        "\n",
        "* Predecir si un Pokémon es de tipo legendario\n",
        "* Predecir el tipo principal de un Pokémon\n",
        "* Predecir el tipo secundario de un Pokémon\n",
        "* Predecir la generación a la que pertenece un Pokémon\n",
        "\n",
        "También podemos realizar predicciones combinadas entre las propuestas anteriores, por ejemplo, podemos predecir el tipo principal y el secundario de un Pokémon; o predecir su generación y si es o no legendario (aunque estas combinaciones tomarán mayor preprocesamiento y preparación de los datos para el modelo).\n",
        "\n",
        "Para este proyecto, sin embargo, crearemos un modelo que prediga la clase booleana 'legendary', pues sabemos, gracias al material de origen, que esta etiqueta está directamente correlacionada con las demás características\n"
      ]
    },
    {
      "cell_type": "markdown",
      "metadata": {
        "id": "igmOCeXknzt2"
      },
      "source": [
        "## 2. Preprocesamiento"
      ]
    },
    {
      "cell_type": "markdown",
      "metadata": {
        "id": "9GyeiHmenX4c"
      },
      "source": [
        "Iniciaremos haciendo un análisis exploratorio de los datos: cargaremos el DataFrame, revisaremos que los tipos de los datos estén bien cargados, y si hay datos faltantes en el Dataset tomaremos decisiones respecto a estos.\n",
        "\n",
        "Posteriormente a esto revisaremos las variables numéricas más a fondo para buscar datos atípicos y encontrar una explicación para estos (por ejemplo, datos mal escritos o datos diferentes por diseño).\n"
      ]
    },
    {
      "cell_type": "markdown",
      "metadata": {
        "id": "7oc-4H3Qn2Wa"
      },
      "source": [
        "### 2.1 Variables categóricas y tipo String"
      ]
    },
    {
      "cell_type": "markdown",
      "metadata": {
        "id": "HIldnCein21d"
      },
      "source": [
        "Empecemos cargando el DataFrame y analizando los tipos de datos que Pandas asignó a cada variable."
      ]
    },
    {
      "cell_type": "code",
      "execution_count": 1239,
      "metadata": {
        "colab": {
          "base_uri": "https://localhost:8080/"
        },
        "id": "QXLY2uhVjOhC",
        "outputId": "e0ee7164-cdde-486f-ad6a-51c6d7879b7d"
      },
      "outputs": [
        {
          "output_type": "stream",
          "name": "stdout",
          "text": [
            "Tipos de las columnas leídos por Pandas\n",
            "\n",
            "<class 'pandas.core.frame.DataFrame'>\n",
            "RangeIndex: 1072 entries, 0 to 1071\n",
            "Data columns (total 13 columns):\n",
            " #   Column      Non-Null Count  Dtype \n",
            "---  ------      --------------  ----- \n",
            " 0   number      1072 non-null   int64 \n",
            " 1   name        1072 non-null   object\n",
            " 2   type1       1072 non-null   object\n",
            " 3   type2       574 non-null    object\n",
            " 4   total       1072 non-null   int64 \n",
            " 5   hp          1072 non-null   int64 \n",
            " 6   attack      1072 non-null   int64 \n",
            " 7   defense     1072 non-null   int64 \n",
            " 8   sp_attack   1072 non-null   int64 \n",
            " 9   sp_defense  1072 non-null   int64 \n",
            " 10  speed       1072 non-null   int64 \n",
            " 11  generation  1072 non-null   int64 \n",
            " 12  legendary   1072 non-null   bool  \n",
            "dtypes: bool(1), int64(9), object(3)\n",
            "memory usage: 101.7+ KB\n",
            "None\n"
          ]
        }
      ],
      "source": [
        "import pandas as pd\n",
        "import numpy as np\n",
        "import warnings\n",
        "import itertools\n",
        "import matplotlib.pyplot as plt\n",
        "import seaborn as sns\n",
        "\n",
        "\n",
        "# Ignoramos las alertas de versión para mayor legibilidad\n",
        "warnings.filterwarnings('ignore')\n",
        "\n",
        "df = pd.read_csv('/content/Pokemon.csv')\n",
        "\n",
        "# Asignamos un valor 'seed' para reproducibilidad\n",
        "np.random.seed(42)\n",
        "\n",
        "print('Tipos de las columnas leídos por Pandas\\n')\n",
        "print(df.info())"
      ]
    },
    {
      "cell_type": "markdown",
      "metadata": {
        "id": "_5EVUoermcfA"
      },
      "source": [
        "Como determinamos anteriormente, 'type1', 'type2', 'generation' y 'legendary' son posibles etiquetas de tipo categóricas y es tipo booleano.\n",
        "\n",
        "Sabiendo esto, analizaremos primero las variables de tipo object, para asegurarnos de que sus datos estén correctos, y realizaremos cualquier preprocesamiento necesario."
      ]
    },
    {
      "cell_type": "code",
      "execution_count": 1240,
      "metadata": {
        "colab": {
          "base_uri": "https://localhost:8080/"
        },
        "id": "AjShtgp5uJRS",
        "outputId": "51092756-f910-4ffb-fac0-de5915deef4b"
      },
      "outputs": [
        {
          "output_type": "stream",
          "name": "stdout",
          "text": [
            "\n",
            "Analisis de las columnas de texto:\n",
            "\n",
            "Datos únicos de name: 1072 \n",
            "Datos únicos de type1: 20 \n",
            "Datos únicos de type2: 19 \n",
            "Datos únicos de generation: 9\n",
            "\n",
            "Datos únicos de type1, type2 y generation:\n",
            "\n",
            "type1\n",
            "Water        136\n",
            "Normal       117\n",
            "Grass         94\n",
            "Bug           83\n",
            "Psychic       80\n",
            "Fire          67\n",
            "Electric      63\n",
            "Rock          60\n",
            "Dark          48\n",
            "Fighting      45\n",
            "Ghost         43\n",
            "Poison        42\n",
            "Ground        42\n",
            "Dragon        41\n",
            "Steel         39\n",
            "Ice           38\n",
            "Fairy         23\n",
            "Flying         9\n",
            "Blastoise      1\n",
            "Graass         1\n",
            "Name: count, dtype: int64 \n",
            "\n",
            "type2\n",
            "Flying      114\n",
            "Fairy        44\n",
            "Psychic      43\n",
            "Poison       41\n",
            "Ground       39\n",
            "Steel        36\n",
            "Dragon       35\n",
            "Fighting     32\n",
            "Grass        29\n",
            "Dark         28\n",
            "Ghost        26\n",
            "Water        22\n",
            "Ice          19\n",
            "Fire         18\n",
            "Rock         16\n",
            "Normal       11\n",
            "Electric     11\n",
            "Bug          10\n",
            "Name: count, dtype: int64 \n",
            "\n",
            "generation\n",
            "1    178\n",
            "5    166\n",
            "3    160\n",
            "8    139\n",
            "4    121\n",
            "7    114\n",
            "2    106\n",
            "6     85\n",
            "0      3\n",
            "Name: count, dtype: int64\n"
          ]
        }
      ],
      "source": [
        "# Estandarizamos la escritura de los datos tipo String\n",
        "df['name'] = df['name'].str.title()\n",
        "df['type1'] = df['type1'].str.title()\n",
        "df['type2'] = df['type2'].str.title()\n",
        "\n",
        "print('\\nAnalisis de las columnas de texto:\\n')\n",
        "print('Datos únicos de name:', len(df.name.unique()),\n",
        "      '\\nDatos únicos de type1:', len(df.type1.unique()),\n",
        "      '\\nDatos únicos de type2:', len(df.type2.unique()),\n",
        "      '\\nDatos únicos de generation:', len(df.generation.unique()))\n",
        "\n",
        "print('\\nDatos únicos de type1, type2 y generation:\\n')\n",
        "print(df['type1'].value_counts(), '\\n')\n",
        "print(df['type2'].value_counts(), '\\n')\n",
        "print(df['generation'].value_counts())"
      ]
    },
    {
      "cell_type": "markdown",
      "metadata": {
        "id": "2r524P82zzkE"
      },
      "source": [
        "Analizando los datos únicos resultantes de ambas columnas, encontramos varios problemas:\n",
        "\n",
        "* 'type2' tiene una gran cantidad de datos faltantes.\n",
        "* 'type1' tiene datos mal escritos.\n",
        "* 'generation' tiene un valor 0 (las generaciones de Pokémon empiezan por la 1).\n",
        "* 'name' tiene dos datos repetidos (No tocaremos esto, pues los datos repetidos de 'name' resultan ser los datos que tienen 'type1' mal escrito)\n",
        "\n",
        "Primero lidiaremos con los datos faltantes de type2.\n",
        "\n",
        "Un análisis del Dataset y de su material de origen revela que los datos faltantes no son aleatorios: un dato faltante en type2 significa que el Pokémon no tiene un tipo secundario, por lo tanto, imputaremos los datos faltantes como una nueva categoría ‘None’.\n",
        "\n",
        "**SIEMPRE es importante, antes de iniciar con un análisis de datos exploratorio, familiarizarse con el Dataset**, es gracias a esto que supimos diferenciar los datos categóricos de los numéricos, las posibles etiquetas, y es por esto que sabemos que 'type2' no tiene valores faltantes aleatorios.\n"
      ]
    },
    {
      "cell_type": "code",
      "execution_count": 1241,
      "metadata": {
        "colab": {
          "base_uri": "https://localhost:8080/"
        },
        "id": "RWEYPOtN1h4C",
        "outputId": "40dee9c6-32cc-43ae-cc72-79350fc7bb25"
      },
      "outputs": [
        {
          "output_type": "stream",
          "name": "stdout",
          "text": [
            "type2\n",
            "None        498\n",
            "Flying      114\n",
            "Fairy        44\n",
            "Psychic      43\n",
            "Poison       41\n",
            "Ground       39\n",
            "Steel        36\n",
            "Dragon       35\n",
            "Fighting     32\n",
            "Grass        29\n",
            "Dark         28\n",
            "Ghost        26\n",
            "Water        22\n",
            "Ice          19\n",
            "Fire         18\n",
            "Rock         16\n",
            "Normal       11\n",
            "Electric     11\n",
            "Bug          10\n",
            "Name: count, dtype: int64\n"
          ]
        }
      ],
      "source": [
        "df['type2'] = df['type2'].fillna('None')\n",
        "print(df['type2'].value_counts())"
      ]
    },
    {
      "cell_type": "markdown",
      "metadata": {
        "id": "Y1ruC-6x36BN"
      },
      "source": [
        "Para 'type1', eliminaremos todas las entradas que están mal escritas. Encontrar datos mal escritos puede ser complicado en Datasets de gran tamaño, generalmente requiere de la aplicación de algoritmos de aprendizaje de máquina relacionados con similitud de texto como los que utilizan los auto correctores de los celulares.\n",
        "\n",
        "Sin embargo, en este caso sabemos que los datos de 'type1' van a ser nuestras etiquetas, y pertenecen a categorías limitadas, con lo cual podemos considerar un dato 'mal escrito' como una categoría que solo tenga uno o dos representantes.\n",
        "\n",
        "Considerando esto, eliminaremos todos los datos que contengan un valor de 'type1' que se repita menos de 5 veces (valor escogido arbitrariamente, pues en este caso los podríamos eliminar manualmente, pero el código no sería reutilizable).\n"
      ]
    },
    {
      "cell_type": "code",
      "execution_count": 1242,
      "metadata": {
        "colab": {
          "base_uri": "https://localhost:8080/"
        },
        "id": "4a1wb-fS2qvk",
        "outputId": "a662efe9-7d3a-4ace-a30e-fb94bada5599"
      },
      "outputs": [
        {
          "output_type": "stream",
          "name": "stdout",
          "text": [
            "type1\n",
            "Water       136\n",
            "Normal      117\n",
            "Grass        94\n",
            "Bug          83\n",
            "Psychic      80\n",
            "Fire         67\n",
            "Electric     63\n",
            "Rock         60\n",
            "Dark         48\n",
            "Fighting     45\n",
            "Ghost        43\n",
            "Poison       42\n",
            "Ground       42\n",
            "Dragon       41\n",
            "Steel        39\n",
            "Ice          38\n",
            "Fairy        23\n",
            "Flying        9\n",
            "Name: count, dtype: int64\n"
          ]
        }
      ],
      "source": [
        "categories = df['type1'].value_counts()\n",
        "categories = categories[categories[categories.index] > 5]\n",
        "\n",
        "df = df[df['type1'].isin(categories.index)]\n",
        "\n",
        "print(df['type1'].value_counts())"
      ]
    },
    {
      "cell_type": "markdown",
      "metadata": {
        "id": "jnd1Zwqu_gSS"
      },
      "source": [
        "Finalmente, revisaremos los datos categorizados como 'generación 0', pues no existe una generación 0 en Pokémon."
      ]
    },
    {
      "cell_type": "code",
      "execution_count": 1243,
      "metadata": {
        "colab": {
          "base_uri": "https://localhost:8080/"
        },
        "id": "8ZsPhtKO9qRe",
        "outputId": "7c1e91f8-14c9-44d9-fed8-8811b3bb752a"
      },
      "outputs": [
        {
          "output_type": "stream",
          "name": "stdout",
          "text": [
            "     number                 name  type1 type2  total   hp  attack  defense  \\\n",
            "950     808               Meltan  Steel  None    300   46      65       65   \n",
            "951     809             Melmetal  Steel  None    600  135     143      143   \n",
            "952     809  Gigantamax Melmetal  Steel  None    600  135     143      143   \n",
            "\n",
            "     sp_attack  sp_defense  speed  generation  legendary  \n",
            "950         55          35     34           0       True  \n",
            "951         80          65     34           0       True  \n",
            "952         80          65     34           0       True  \n"
          ]
        }
      ],
      "source": [
        "print(df[df['generation'] == 0])"
      ]
    },
    {
      "cell_type": "markdown",
      "metadata": {
        "id": "E4IQH9XoDUWM"
      },
      "source": [
        "Investigando, encontramos que este Pokémon (y sus dos variables también aquí presentes) fue introducido en un videojuego secundario de la saga, no en uno de los principales, con lo que el DataFrame clasifica su generación como 0. Sin embargo, de acuerdo a la wiki del juego, el videojuego en el que fue introducido está situado en la séptima generación, por lo tanto, le imputaremos este valor."
      ]
    },
    {
      "cell_type": "code",
      "execution_count": 1244,
      "metadata": {
        "colab": {
          "base_uri": "https://localhost:8080/"
        },
        "id": "uLR29R-wDS7S",
        "outputId": "ea805a74-6433-4d37-885b-fa87afc299e8"
      },
      "outputs": [
        {
          "output_type": "stream",
          "name": "stdout",
          "text": [
            "generation\n",
            "1    177\n",
            "5    166\n",
            "3    160\n",
            "8    138\n",
            "4    121\n",
            "7    117\n",
            "2    106\n",
            "6     85\n",
            "Name: count, dtype: int64\n"
          ]
        }
      ],
      "source": [
        "df['generation'].replace(0, 7, inplace=True)\n",
        "\n",
        "print(df['generation'].value_counts())"
      ]
    },
    {
      "cell_type": "markdown",
      "metadata": {
        "id": "ZJXJHZZSDy0W"
      },
      "source": [
        "Si una variable de texto consiste en unos pocos valores únicos que se repiten muchas veces, es buena idea pasarla a tipo categórica, pues este tipo de variable consume mucho menos espacio en memoria que variables String, pues está optimizando para datos que se repiten.\n",
        "\n",
        "Teniendo esto en cuenta, convertiremos 'type1', 'type2' y 'generation' a variables categóricas para reducir su consumo de almacenamiento (no convertiremos 'name' a categórico debido a que ninguno de sus datos se repite, con lo que la ganancia de espacio de almacenamiento sería trivial).\n"
      ]
    },
    {
      "cell_type": "code",
      "execution_count": 1245,
      "metadata": {
        "colab": {
          "base_uri": "https://localhost:8080/"
        },
        "id": "b_Qfuh2yDpWG",
        "outputId": "26d16a23-60f8-4688-8b9b-898d5a293319"
      },
      "outputs": [
        {
          "output_type": "stream",
          "name": "stdout",
          "text": [
            "<class 'pandas.core.frame.DataFrame'>\n",
            "Index: 1070 entries, 0 to 1071\n",
            "Data columns (total 13 columns):\n",
            " #   Column      Non-Null Count  Dtype   \n",
            "---  ------      --------------  -----   \n",
            " 0   number      1070 non-null   int64   \n",
            " 1   name        1070 non-null   object  \n",
            " 2   type1       1070 non-null   category\n",
            " 3   type2       1070 non-null   category\n",
            " 4   total       1070 non-null   int64   \n",
            " 5   hp          1070 non-null   int64   \n",
            " 6   attack      1070 non-null   int64   \n",
            " 7   defense     1070 non-null   int64   \n",
            " 8   sp_attack   1070 non-null   int64   \n",
            " 9   sp_defense  1070 non-null   int64   \n",
            " 10  speed       1070 non-null   int64   \n",
            " 11  generation  1070 non-null   category\n",
            " 12  legendary   1070 non-null   bool    \n",
            "dtypes: bool(1), category(3), int64(8), object(1)\n",
            "memory usage: 89.5+ KB\n"
          ]
        }
      ],
      "source": [
        "df['type1'] = df['type1'].astype('category')\n",
        "df['type2'] = df['type2'].astype('category')\n",
        "df['generation'] = df['generation'].astype('category')\n",
        "df.info()"
      ]
    },
    {
      "cell_type": "markdown",
      "metadata": {
        "id": "EcKK4xxuFEwu"
      },
      "source": [
        "### 2.2 Datos repetidos"
      ]
    },
    {
      "cell_type": "markdown",
      "metadata": {
        "id": "Ni8EVedbFFxO"
      },
      "source": [
        "Como observamos anteriormente cuando analizamos la 'generación 0' con Melmetal y Gigantamax Melmetal, algunos Pokémones tienen variantes con exactamente las mismas características e, incluso, el mismo número de registro 'number'. Observemos esto más a fondo."
      ]
    },
    {
      "cell_type": "code",
      "execution_count": 1246,
      "metadata": {
        "colab": {
          "base_uri": "https://localhost:8080/"
        },
        "id": "0WUA4EB5E_xv",
        "outputId": "7de53124-40b8-4563-d3d1-dbda73c027e9"
      },
      "outputs": [
        {
          "output_type": "stream",
          "name": "stdout",
          "text": [
            "    number                  name  type1   type2  total  hp  attack  defense  \\\n",
            "2        3              Venusaur  Grass  Poison    525  80      82       83   \n",
            "3        3         Mega Venusaur  Grass  Poison    625  80     100      123   \n",
            "4        3   Gigantamax Venusaur  Grass  Poison    525  80      82       83   \n",
            "7        6             Charizard   Fire  Flying    534  78      84       78   \n",
            "8        6      Mega Charizard X   Fire  Dragon    634  78     130      111   \n",
            "9        6      Mega Charizard Y   Fire  Flying    634  78     104       78   \n",
            "10       6  Gigantamax Charizard   Fire  Flying    534  78      84       78   \n",
            "\n",
            "    sp_attack  sp_defense  speed generation  legendary  \n",
            "2         100         100     80          1      False  \n",
            "3         122         120     80          1      False  \n",
            "4         100         100     80          1      False  \n",
            "7         109          85    100          1      False  \n",
            "8         130          85    100          1      False  \n",
            "9         159         115    100          1      False  \n",
            "10        109          85    100          1      False  \n"
          ]
        }
      ],
      "source": [
        "print(df[df.duplicated(subset='number', keep=False)].head(7))"
      ]
    },
    {
      "cell_type": "markdown",
      "metadata": {
        "id": "VWwsxeA_28IO"
      },
      "source": [
        "Podemos observar que algunos Pokémones tienen una versión 'Mega' y una versión 'Gigantamax'.\n",
        "\n",
        "* Las versiones 'Gigantamax' comparten exactamente sus mismas estadísticas, tipos, y número; su única diferencia para propósitos de nuestros modelos es el nombre.\n",
        "\n",
        "* Las versiones 'Mega' tienen estadísticas y -en algunos casos- tipos diferentes; su única similitud para propósitos de nuestros modelos es el número.\n",
        "\n",
        "Y estos no son todos los datos que pueden ser considerados repetidos en el DataFrame, observemos ahora la cola de los datos duplicados:\n"
      ]
    },
    {
      "cell_type": "code",
      "execution_count": 1247,
      "metadata": {
        "colab": {
          "base_uri": "https://localhost:8080/"
        },
        "id": "1QEWhdOm7Wgh",
        "outputId": "2621e364-d7fc-4db9-b688-7cadb43c7437"
      },
      "outputs": [
        {
          "output_type": "stream",
          "name": "stdout",
          "text": [
            "      number                  name    type1   type2  total   hp  attack  \\\n",
            "2          3              Venusaur    Grass  Poison    525   80      82   \n",
            "3          3         Mega Venusaur    Grass  Poison    625   80     100   \n",
            "4          3   Gigantamax Venusaur    Grass  Poison    525   80      82   \n",
            "7          6             Charizard     Fire  Flying    534   78      84   \n",
            "8          6      Mega Charizard X     Fire  Dragon    634   78     130   \n",
            "...      ...                   ...      ...     ...    ...  ...     ...   \n",
            "1063     893                Zarude     Dark   Grass    600  105     120   \n",
            "1064     893           Dada Zarude     Dark   Grass    600  105     120   \n",
            "1069     898               Calyrex  Psychic   Grass    500  100      80   \n",
            "1070     898     Ice Rider Calyrex  Psychic     Ice    680  100     165   \n",
            "1071     898  Shadow Rider Calyrex  Psychic   Ghost    680  100      85   \n",
            "\n",
            "      defense  sp_attack  sp_defense  speed generation  legendary  \n",
            "2          83        100         100     80          1      False  \n",
            "3         123        122         120     80          1      False  \n",
            "4          83        100         100     80          1      False  \n",
            "7          78        109          85    100          1      False  \n",
            "8         111        130          85    100          1      False  \n",
            "...       ...        ...         ...    ...        ...        ...  \n",
            "1063      105         70          95    105          8       True  \n",
            "1064      105         70          95    105          8       True  \n",
            "1069       80         80          80     80          8       True  \n",
            "1070      150         85         130     50          8       True  \n",
            "1071       80        165         100    150          8       True  \n",
            "\n",
            "[314 rows x 13 columns]\n"
          ]
        }
      ],
      "source": [
        "print(df[df.duplicated(subset='number', keep=False)])"
      ]
    },
    {
      "cell_type": "markdown",
      "metadata": {
        "id": "Em-6ByVa7rPx"
      },
      "source": [
        "En este caso debemos tomar decisiones respecto a estos datos ¿Son o no relevantes para nuestro estudio? No hay una respuesta objetivamente correcta aquí, sin embargo, **lo más importante a la hora de tomar decisiones respecto a nuestro DataFrame** es considerar el material de origen:\n",
        "\n",
        "Las versiones 'Gigantamax' y 'Mega' son versiones temporales de los Pokémones otorgadas por una habilidad, con lo cual **no representan** datos o Pokémones distintos, solo representan una variable 'mejorada' y temporal del mismo Pokémon.\n",
        "\n",
        "Los Pokémones legendarios generalmente tienen distintas versiones para que los combates contra estos sean más interesantes; versiones exclusivas conseguidas durante eventos; o versiones que solo existen como enemigos y no como personajes jugables\n",
        "\n",
        "Considerando esto (y considerando, especialmente, que las altas estadísticas de los Pokémones tipo 'Mega' y de las versiones repetidas de Pokémones legendarios podrían afectar negativamente nuestras medidas de tendencia central), removeremos estos datos como si se tratase de datos repetidos.\n"
      ]
    },
    {
      "cell_type": "code",
      "execution_count": 1248,
      "metadata": {
        "colab": {
          "base_uri": "https://localhost:8080/"
        },
        "id": "dcLJJUScFNH5",
        "outputId": "49d712f8-0701-4862-ebdf-0b1b1017bee8"
      },
      "outputs": [
        {
          "output_type": "stream",
          "name": "stdout",
          "text": [
            "<class 'pandas.core.frame.DataFrame'>\n",
            "Index: 897 entries, 0 to 1069\n",
            "Data columns (total 13 columns):\n",
            " #   Column      Non-Null Count  Dtype   \n",
            "---  ------      --------------  -----   \n",
            " 0   number      897 non-null    int64   \n",
            " 1   name        897 non-null    object  \n",
            " 2   type1       897 non-null    category\n",
            " 3   type2       897 non-null    category\n",
            " 4   total       897 non-null    int64   \n",
            " 5   hp          897 non-null    int64   \n",
            " 6   attack      897 non-null    int64   \n",
            " 7   defense     897 non-null    int64   \n",
            " 8   sp_attack   897 non-null    int64   \n",
            " 9   sp_defense  897 non-null    int64   \n",
            " 10  speed       897 non-null    int64   \n",
            " 11  generation  897 non-null    category\n",
            " 12  legendary   897 non-null    bool    \n",
            "dtypes: bool(1), category(3), int64(8), object(1)\n",
            "memory usage: 75.3+ KB\n",
            "None\n"
          ]
        }
      ],
      "source": [
        "# Conservamos el primer dato, pues este es el Pokémon 'original'\n",
        "df.drop_duplicates(subset='number', keep='first', inplace=True)\n",
        "\n",
        "print(df.info())\n"
      ]
    },
    {
      "cell_type": "markdown",
      "metadata": {
        "id": "d57UQgTfXA_Y"
      },
      "source": [
        "Tras el cambio, conservamos un total de 897 entradas, son bastante menos que las 1072 iniciales, entonces, ¿Se puede decir que eliminar estos valores fue una decisión apropiada?\n",
        "\n",
        "Analicemos esto un poco más a fondo haciéndonos las siguientes preguntas: ¿Eliminamos datos **únicos** cuando intentamos eliminar duplicados? y ¿Cuántos datos deberíamos tener de acuerdo al material de origen?\n"
      ]
    },
    {
      "cell_type": "code",
      "execution_count": 1249,
      "metadata": {
        "colab": {
          "base_uri": "https://localhost:8080/"
        },
        "id": "d-YGp9aGXtSB",
        "outputId": "ac543f8f-e7d8-464b-f470-74dded9fcf3a"
      },
      "outputs": [
        {
          "output_type": "stream",
          "name": "stdout",
          "text": [
            "Datos únicos de la columna 'number' en el DataFrame inicial: 898\n",
            "Datos únicos de la columna 'number' tras eliminar datos repetidos: 897\n"
          ]
        }
      ],
      "source": [
        "df_og = pd.read_csv('/content/Pokemon.csv')\n",
        "\n",
        "print(\"Datos únicos de la columna 'number' en el DataFrame inicial:\",\n",
        "      len(df_og['number'].unique()))\n",
        "\n",
        "print(\"Datos únicos de la columna 'number' tras eliminar datos repetidos:\",\n",
        "      len(df['number'].unique()))"
      ]
    },
    {
      "cell_type": "markdown",
      "metadata": {
        "id": "AfCS8D0aYe09"
      },
      "source": [
        "De esta forma podemos determinar que cada ID única (number) está representada por exactamente un Pokémon. No hemos perdido información, al contrario, eliminamos variables que podrían haber envenenado la calidad de nuestro Dataset y del subsecuente modelo.\n",
        "\n",
        "También cabe resaltar que esta no es una medida objetivamente correcta, pues para otros proyectos como [clustering en base a características](https://github.com/JuanGomezR/Pokemon-No-Supervisado), estas variables podrían ser aprovechadas.\n"
      ]
    },
    {
      "cell_type": "markdown",
      "metadata": {
        "id": "a-ghyAq5Fo0o"
      },
      "source": [
        "### 2.3 Datos atípicos"
      ]
    },
    {
      "cell_type": "markdown",
      "metadata": {
        "id": "EUy-6OiHFpv0"
      },
      "source": [
        "Ahora, por medio del método de rango intercuartílico, buscaremos datos con características anormales que puedan ser considerados datos atípicos en cada una de las columnas de tipo Int, por medio de un for loop.\n",
        "\n",
        "El **Rango Intercuartílico** es una medida de dispersión estadística utilizada para encontrar datos lo suficientemente alejados de la media como para ser considerados atípicos. Se define como 'la diferencia entre el tercer y el primer cuartil de una distribución'. Si un dato está 1.5 rangos intercuartílicos alejado de la media de la distribución, es considerado un dato atípico o extremo.\n",
        "\n",
        "**Para la búsqueda de datos atípicos, ignoraremos a los Pokémones legendarios, pues estos son atípicos por diseño y son esenciales para el modelo.**\n"
      ]
    },
    {
      "cell_type": "code",
      "execution_count": 1250,
      "metadata": {
        "colab": {
          "base_uri": "https://localhost:8080/"
        },
        "id": "Uyv73b7OFaM6",
        "outputId": "67e777ae-f9a7-47b0-f305-4db4c7a00c5f"
      },
      "outputs": [
        {
          "output_type": "stream",
          "name": "stdout",
          "text": [
            "Cantidad de datos atípicos: 39\n",
            "     number        name     type1     type2  total   hp  attack  defense  \\\n",
            "57       40  Wigglytuff    Normal     Fairy    435  140      70       45   \n",
            "127      91    Cloyster     Water       Ice    525   50      95      180   \n",
            "133      95        Onix      Rock    Ground    385   35      45      160   \n",
            "155     113     Chansey    Normal      None    450  250       5        5   \n",
            "177     131      Lapras     Water       Ice    535  130      85       80   \n",
            "182     134    Vaporeon     Water      None    525  130      65       60   \n",
            "192     143     Snorlax    Normal      None    540  160     110       65   \n",
            "259     202   Wobbuffet   Psychic      None    405  190      33       58   \n",
            "265     208     Steelix     Steel    Ground    510   75      85      200   \n",
            "272     213     Shuckle       Bug      Rock    505   20      10      230   \n",
            "287     226     Mantine     Water    Flying    465   65      40       70   \n",
            "304     242     Blissey    Normal      None    540  255      10       10   \n",
            "358     289     Slaking    Normal      None    670  150     160      100   \n",
            "360     291     Ninjask       Bug    Flying    456   61      90       45   \n",
            "361     292    Shedinja       Bug     Ghost    236    1      90       45   \n",
            "366     297    Hariyama  Fighting      None    474  144     120       60   \n",
            "377     306      Aggron     Steel      Rock    530   70     110      180   \n",
            "395     320     Wailmer     Water      None    400  130      70       35   \n",
            "396     321     Wailord     Water      None    500  170      90       45   \n",
            "499     409   Rampardos      Rock      None    495   97     165       60   \n",
            "501     411   Bastiodon      Rock     Steel    495   60      52      168   \n",
            "518     426    Drifblim     Ghost    Flying    498  150      80       44   \n",
            "540     446    Munchlax    Normal      None    390  135      85       40   \n",
            "573     476   Probopass      Rock     Steel    525   60      55      145   \n",
            "705     594   Alomomola     Water      None    470  165      75       80   \n",
            "791     671     Florges     Fairy      None    552   78      65       68   \n",
            "825     703     Carbink      Rock     Fairy    500   50      50      150   \n",
            "828     706      Goodra    Dragon      None    600   90     100       70   \n",
            "841     713     Avalugg       Ice      None    514   95     117      184   \n",
            "886     748     Toxapex    Poison     Water    495   50      63      152   \n",
            "934     795   Pheromosa       Bug  Fighting    570   71     137       37   \n",
            "935     796   Xurkitree  Electric      None    570   83      89       71   \n",
            "937     798     Kartana     Grass     Steel    570   59     181      131   \n",
            "938     799    Guzzlord      Dark    Dragon    570  223     101       53   \n",
            "947     805   Stakataka      Rock     Steel    570   61     131      211   \n",
            "\n",
            "     sp_attack  sp_defense  speed generation  legendary  \n",
            "57          85          50     45          1      False  \n",
            "127         85          45     70          1      False  \n",
            "133         30          45     70          1      False  \n",
            "155         35         105     50          1      False  \n",
            "177         85          95     60          1      False  \n",
            "182        110          95     65          1      False  \n",
            "192         65         110     30          1      False  \n",
            "259         33          58     33          2      False  \n",
            "265         55          65     30          2      False  \n",
            "272         10         230      5          2      False  \n",
            "287         80         140     70          2      False  \n",
            "304         75         135     55          2      False  \n",
            "358         95          65    100          3      False  \n",
            "360         50          50    160          3      False  \n",
            "361         30          30     40          3      False  \n",
            "366         40          60     50          3      False  \n",
            "377         60          60     50          3      False  \n",
            "395         70          35     60          3      False  \n",
            "396         90          45     60          3      False  \n",
            "499         65          50     58          4      False  \n",
            "501         47         138     30          4      False  \n",
            "518         90          54     80          4      False  \n",
            "540         40          85      5          4      False  \n",
            "573         75         150     40          4      False  \n",
            "705         40          45     65          5      False  \n",
            "791        112         154     75          6      False  \n",
            "825         50         150     50          6      False  \n",
            "828        110         150     80          6      False  \n",
            "841         44          46     28          6      False  \n",
            "886         53         142     35          7      False  \n",
            "934        137          37    151          7      False  \n",
            "935        173          71     83          7      False  \n",
            "937         59          31    109          7      False  \n",
            "938         97          53     43          7      False  \n",
            "947         53         101     13          7      False  \n"
          ]
        }
      ],
      "source": [
        "atipicos = list()\n",
        "\n",
        "df_no_leg = df[df['legendary'] == False]\n",
        "\n",
        "for column in (df.loc[0, 'total':'speed'].index):\n",
        "  # Calculamos el IQR y los limites superior e inferior\n",
        "  iqr = df[column].quantile(0.75) - df[column].quantile(0.25)\n",
        "  low_iqr = df[column].quantile(0.25) - (1.5 * iqr)\n",
        "  high_iqr = df[column].quantile(0.75) + (1.5 * iqr)\n",
        "\n",
        "  # Guardamos los datos que se salgan de este rango\n",
        "  atipicos.append(list(df_no_leg[(df_no_leg[column] < low_iqr) |\n",
        "                                 (df_no_leg[column] > high_iqr)].index))\n",
        "\n",
        "# Desempacamos la lista de listas en una sola lista de valores únicos\n",
        "atipicos = sorted(list(itertools.chain(*atipicos)))\n",
        "\n",
        "print('Cantidad de datos atípicos:', len(atipicos))\n",
        "print(df[df.index.isin(atipicos)])"
      ]
    },
    {
      "cell_type": "markdown",
      "metadata": {
        "id": "vCFEAmMoGDqW"
      },
      "source": [
        "En este caso, podemos observar que ninguno de los 39 datos atípicos se origina de un error de escritura (ni siquiera el de Shedinja, quien solo tiene 1 punto de vida), sino que son datos leales al juego; aun así, incluirlos en los datos de entrenamiento puede afectar negativamente las medidas de tendencia central de nuestro Dataset e introducir ruido a nuestro modelo, por lo tanto **(y considerando que no superan el 5% de los datos totales)**, los eliminaremos de nuestro Dataset de entrenamiento."
      ]
    },
    {
      "cell_type": "code",
      "execution_count": 1251,
      "metadata": {
        "colab": {
          "base_uri": "https://localhost:8080/"
        },
        "id": "trM509JCGMNh",
        "outputId": "2d2e8940-059d-4920-cf2a-8af55d660133"
      },
      "outputs": [
        {
          "output_type": "stream",
          "name": "stdout",
          "text": [
            "<class 'pandas.core.frame.DataFrame'>\n",
            "Index: 862 entries, 0 to 1069\n",
            "Data columns (total 13 columns):\n",
            " #   Column      Non-Null Count  Dtype   \n",
            "---  ------      --------------  -----   \n",
            " 0   number      862 non-null    int64   \n",
            " 1   name        862 non-null    object  \n",
            " 2   type1       862 non-null    category\n",
            " 3   type2       862 non-null    category\n",
            " 4   total       862 non-null    int64   \n",
            " 5   hp          862 non-null    int64   \n",
            " 6   attack      862 non-null    int64   \n",
            " 7   defense     862 non-null    int64   \n",
            " 8   sp_attack   862 non-null    int64   \n",
            " 9   sp_defense  862 non-null    int64   \n",
            " 10  speed       862 non-null    int64   \n",
            " 11  generation  862 non-null    category\n",
            " 12  legendary   862 non-null    bool    \n",
            "dtypes: bool(1), category(3), int64(8), object(1)\n",
            "memory usage: 72.4+ KB\n",
            "None\n"
          ]
        }
      ],
      "source": [
        "df = df[~df.index.isin(atipicos)]\n",
        "print(df.info())"
      ]
    },
    {
      "cell_type": "markdown",
      "metadata": {
        "id": "0zBR95KBGXnX"
      },
      "source": [
        "Finalmente, graficaremos la columna 'total' para asegurarnos de que ningún legendario (a los que anteriormente omitimos) tenga algún valor extremo."
      ]
    },
    {
      "cell_type": "code",
      "execution_count": 1252,
      "metadata": {
        "colab": {
          "base_uri": "https://localhost:8080/",
          "height": 449
        },
        "id": "RCplrqVPGYKi",
        "outputId": "da09a9ef-e3a6-4c0e-cd09-53635cc50a8c"
      },
      "outputs": [
        {
          "output_type": "display_data",
          "data": {
            "text/plain": [
              "<Figure size 640x480 with 1 Axes>"
            ],
            "image/png": "[encoded data removed]"
          },
          "metadata": {}
        }
      ],
      "source": [
        "sns.scatterplot(x='number', y='total', data=df)\n",
        "plt.show()"
      ]
    },
    {
      "cell_type": "markdown",
      "metadata": {
        "id": "80pVaxvwHK-3"
      },
      "source": [
        "No parece haber ningún valor demasiado alejado del promedio, con lo cual terminaremos el análisis exploratorio de datos."
      ]
    },
    {
      "cell_type": "markdown",
      "metadata": {
        "id": "X00YbNGONtV4"
      },
      "source": [
        "### 2.4 Elección y análisis de características"
      ]
    },
    {
      "cell_type": "markdown",
      "metadata": {
        "id": "W2zTriQPN7f9"
      },
      "source": [
        "Aunque ya terminó la fase del análisis exploratorio de datos, todavía se deben hacer adaptaciones al DataFrame antes de poderlo alimentar a los modelos."
      ]
    },
    {
      "cell_type": "code",
      "execution_count": 1253,
      "metadata": {
        "colab": {
          "base_uri": "https://localhost:8080/"
        },
        "id": "SoLIAz61G5ey",
        "outputId": "98514fb2-a3fa-4b21-dff3-6e777e1d6987"
      },
      "outputs": [
        {
          "output_type": "stream",
          "name": "stdout",
          "text": [
            "   number        name  type1   type2  total  hp  attack  defense  sp_attack  \\\n",
            "0       1   Bulbasaur  Grass  Poison    318  45      49       49         65   \n",
            "1       2     Ivysaur  Grass  Poison    405  60      62       63         80   \n",
            "2       3    Venusaur  Grass  Poison    525  80      82       83        100   \n",
            "5       4  Charmander   Fire    None    309  39      52       43         60   \n",
            "6       5  Charmeleon   Fire    None    405  58      64       58         80   \n",
            "\n",
            "   sp_defense  speed generation  legendary  \n",
            "0          65     45          1      False  \n",
            "1          80     60          1      False  \n",
            "2         100     80          1      False  \n",
            "5          50     65          1      False  \n",
            "6          65     80          1      False  \n"
          ]
        }
      ],
      "source": [
        "print(df.head())"
      ]
    },
    {
      "cell_type": "markdown",
      "metadata": {
        "id": "GLfs3EtiK3zn"
      },
      "source": [
        "Las variables 'number' y 'name' tienen como objetivo ser un identificador único de cada Pokémon, por lo tanto, no nos servirán para realizar predicciones, con lo que serán descartadas.\n",
        "\n",
        "En este punto crearemos una copia del Dataset, pues si queremos analizar el éxito de nuestro modelo en Pokémones específicos necesitaremos su nombre y/o número, algo que no tendremos luego de eliminar estas variables."
      ]
    },
    {
      "cell_type": "code",
      "execution_count": 1254,
      "metadata": {
        "colab": {
          "base_uri": "https://localhost:8080/"
        },
        "id": "Hh8UzhkvKkNE",
        "outputId": "77ea85bc-d0ba-4431-c0bc-54fe09ce74a7"
      },
      "outputs": [
        {
          "output_type": "stream",
          "name": "stdout",
          "text": [
            "Nuevo X con menos columnas: \n",
            "\n",
            "   type1   type2  total  hp  attack  defense  sp_attack  sp_defense  speed  \\\n",
            "0  Grass  Poison    318  45      49       49         65          65     45   \n",
            "1  Grass  Poison    405  60      62       63         80          80     60   \n",
            "2  Grass  Poison    525  80      82       83        100         100     80   \n",
            "5   Fire    None    309  39      52       43         60          50     65   \n",
            "6   Fire    None    405  58      64       58         80          65     80   \n",
            "\n",
            "  generation  legendary  \n",
            "0          1      False  \n",
            "1          1      False  \n",
            "2          1      False  \n",
            "5          1      False  \n",
            "6          1      False  \n"
          ]
        }
      ],
      "source": [
        "X = df.copy()\n",
        "X.drop(['number', 'name'],axis=1, inplace=True)\n",
        "print('Nuevo X con menos columnas: \\n\\n', X.head(), sep='')"
      ]
    },
    {
      "cell_type": "markdown",
      "source": [
        "Uno de los mayores beneficios de utilizar modelos basados en árboles de decisión es la poca preparación que se le debe de hacer a los datos antes de entregárselos al modelo. De no utilizar este tipo de modelo tendríamos que\n",
        "Normalizar o estandarizar el conjunto de datos; además de realizar preprocesamiento extra en caso de que tuviéramos variables de otro tipo, como lo pueden ser fechas.\n",
        "\n",
        "Observemos también las variables 'type1', 'type2', 'generation' y 'legendary' (pues las demás variables son numéricas y ya han sido preprocesadas, pueden ser alimentadas al modelo tal como están).\n",
        "\n",
        "* 'generation' es una variable categórica de tipo ordinal representada por números en orden, con lo cuál puede ser alimentada al modelo tal como está, pues Scikit-learn la tratará como una variable numérica común.\n",
        "\n",
        "* 'legendary' es de tipo booleano, se la puede alimentar al modelo tal como está, como característica al igual que como etiqueta.\n",
        "\n",
        "'type1' y 'type2' son más complicadas. El modelo no puede leer una variable categórica representada por texto, tampoco es una variable de tipo ordinal, con lo que la clase LabelEncoder de scikit-learn no será de ayuda, esto nos deja con dos posibilidades: Eliminar las variables del DataFrame de entrenamiento, o codificarlas utilizando la función get_dummies de Pandas.\n",
        "\n",
        "Codificarlas es una alternativa **computacionalmente costosa**, aumentará el tiempo de entrenamiento de los modelos, su tiempo de predicción, y aumentará el tamaño de nuestro DataFrame considerablemente, por lo tanto, solo deberíamos de utilizarlas si estamos seguros de que estas variables aportan una gran cantidad de información ¿Cómo averiguamos esto?\n",
        "\n",
        "Teniendo en cuenta que, al aumentar la cantidad de características del DataFrame, se puede aumentar el sobreajuste -algo a lo que tienden los modelos basados en árboles de decisión-, y sabiendo que, en el material de origen, los Pokémones legendarios son definidos principalmente por sus características altas, podemos borrar las variables categóricas de nuestro set de entrenamiento.\n",
        "\n",
        "Sin embargo, hagamos un ejercicio netamente educativo: observemos el efecto de conservar estas variables en otro modelo diferente. Entrenaremos un DecisionTreeClassifier incluyendo las variables, y otro sin incluirlas, buscando predecir la etiqueta 'generation', en vez de nuestra etiqueta seleccionada 'legendary'."
      ],
      "metadata": {
        "id": "RMfpTFPXBX5J"
      }
    },
    {
      "cell_type": "markdown",
      "source": [
        "___________________\n",
        "\n",
        "## Ejercicio aislado"
      ],
      "metadata": {
        "id": "iS3bz8YMwuO2"
      }
    },
    {
      "cell_type": "code",
      "source": [
        "from sklearn.tree import DecisionTreeClassifier\n",
        "from sklearn.model_selection import GridSearchCV, train_test_split\n",
        "\n",
        "ytemp = X['generation']\n",
        "Xtemp = X.drop(['generation'], axis=1)\n",
        "\n",
        "# Creamos un DataFrame sin 'type2' y otro con sus dummies\n",
        "X_cat = Xtemp.copy()\n",
        "X_cat = pd.get_dummies(X_cat, columns=['type1', 'type2'])\n",
        "X_nocat = Xtemp.drop(['type1', 'type2'], axis=1)\n",
        "\n",
        "# Entrenamos el modelo usando 'type2'\n",
        "X_train, X_test, y_train, y_test = train_test_split(X_cat, ytemp, stratify=ytemp)\n",
        "\n",
        "mdl_cat = GridSearchCV(DecisionTreeClassifier(),\n",
        "                      {'max_depth': [5, 10, 20],\n",
        "                       'min_samples_split': [2, 5, 10],\n",
        "                       'min_samples_leaf': [1, 5, 10]})\n",
        "mdl_cat.fit(X_train, y_train)\n",
        "\n",
        "print(\"Puntaje del modelo con variables categóricas en entrenamiento: \",\n",
        "      mdl_cat.score(X_train, y_train),\n",
        "      \"\\nPuntaje del modelo con variables categóricas en testing: \",\n",
        "      mdl_cat.score(X_test, y_test),\n",
        "      '\\n', sep='')\n",
        "\n",
        "# Entrenamos el modelo sin usar 'type2'\n",
        "X_train, X_test, y_train, y_test = train_test_split(X_nocat, ytemp, stratify=ytemp)\n",
        "\n",
        "mdl_nocat = GridSearchCV(DecisionTreeClassifier(),\n",
        "                        {'max_depth': [5, 10, 20],\n",
        "                         'min_samples_split': [2, 5, 10],\n",
        "                         'min_samples_leaf': [1, 5, 10]})\n",
        "mdl_nocat.fit(X_train, y_train)\n",
        "\n",
        "print(\"Puntaje del modelo sin variables categóricas en entrenamiento: \",\n",
        "      mdl_nocat.score(X_train, y_train),\n",
        "      \"\\nPuntaje del modelo sin variables categóricas en testing: \",\n",
        "      mdl_nocat.score(X_test, y_test), sep='')"
      ],
      "metadata": {
        "colab": {
          "base_uri": "https://localhost:8080/"
        },
        "id": "TP0T9CD2bSzS",
        "outputId": "144b96c6-a43d-4b88-df42-7e70350f3aaa"
      },
      "execution_count": 1255,
      "outputs": [
        {
          "output_type": "stream",
          "name": "stdout",
          "text": [
            "Puntaje del modelo con variables categóricas en entrenamiento: 0.30030959752321984\n",
            "Puntaje del modelo con variables categóricas en testing: 0.20833333333333334\n",
            "\n",
            "Puntaje del modelo sin variables categóricas en entrenamiento: 0.5185758513931888\n",
            "Puntaje del modelo sin variables categóricas en testing: 0.16666666666666666\n"
          ]
        }
      ]
    },
    {
      "cell_type": "markdown",
      "source": [
        "En este caso, incluir las variables categóricas parece mejorar la generalización del modelo, dándole mejor desempeño en variables no vistas. Para saber qué tanto le aportan estas variables al modelo, utilizaremos el atributo feature_importances_."
      ],
      "metadata": {
        "id": "myda6oNYwpnJ"
      }
    },
    {
      "cell_type": "code",
      "source": [
        "coeficients = pd.DataFrame(mdl_cat.best_estimator_.feature_importances_,\n",
        "                            index=mdl_cat.feature_names_in_, columns=['coeficientes con variables'])\n",
        "coeficients.join(pd.DataFrame(mdl_nocat.best_estimator_.feature_importances_,\n",
        "                               index=mdl_nocat.feature_names_in_,\n",
        "                               columns=['coeficientes sin variables']))"
      ],
      "metadata": {
        "colab": {
          "base_uri": "https://localhost:8080/",
          "height": 1000
        },
        "id": "1-FSa7xjud0n",
        "outputId": "884ba444-3238-4675-b9b1-99b75a0cc3f3"
      },
      "execution_count": 1256,
      "outputs": [
        {
          "output_type": "execute_result",
          "data": {
            "text/plain": [
              "                coeficientes con variables  coeficientes sin variables\n",
              "total                             0.248025                    0.212595\n",
              "hp                                0.147968                    0.119102\n",
              "attack                            0.005126                    0.150170\n",
              "defense                           0.158307                    0.092529\n",
              "sp_attack                         0.114268                    0.099109\n",
              "sp_defense                        0.000000                    0.146212\n",
              "speed                             0.119196                    0.180283\n",
              "legendary                         0.000000                    0.000000\n",
              "type1_Bug                         0.000000                         NaN\n",
              "type1_Dark                        0.000000                         NaN\n",
              "type1_Dragon                      0.000000                         NaN\n",
              "type1_Electric                    0.000000                         NaN\n",
              "type1_Fairy                       0.047183                         NaN\n",
              "type1_Fighting                    0.000000                         NaN\n",
              "type1_Fire                        0.000000                         NaN\n",
              "type1_Flying                      0.000000                         NaN\n",
              "type1_Ghost                       0.000000                         NaN\n",
              "type1_Grass                       0.000000                         NaN\n",
              "type1_Ground                      0.000000                         NaN\n",
              "type1_Ice                         0.000000                         NaN\n",
              "type1_Normal                      0.000000                         NaN\n",
              "type1_Poison                      0.000000                         NaN\n",
              "type1_Psychic                     0.000000                         NaN\n",
              "type1_Rock                        0.000000                         NaN\n",
              "type1_Steel                       0.000000                         NaN\n",
              "type1_Water                       0.000000                         NaN\n",
              "type2_Bug                         0.000000                         NaN\n",
              "type2_Dark                        0.000000                         NaN\n",
              "type2_Dragon                      0.000000                         NaN\n",
              "type2_Electric                    0.000000                         NaN\n",
              "type2_Fairy                       0.000000                         NaN\n",
              "type2_Fighting                    0.000000                         NaN\n",
              "type2_Fire                        0.000000                         NaN\n",
              "type2_Flying                      0.000000                         NaN\n",
              "type2_Ghost                       0.000000                         NaN\n",
              "type2_Grass                       0.000000                         NaN\n",
              "type2_Ground                      0.000000                         NaN\n",
              "type2_Ice                         0.000000                         NaN\n",
              "type2_None                        0.026126                         NaN\n",
              "type2_Normal                      0.000000                         NaN\n",
              "type2_Poison                      0.068795                         NaN\n",
              "type2_Psychic                     0.065007                         NaN\n",
              "type2_Rock                        0.000000                         NaN\n",
              "type2_Steel                       0.000000                         NaN\n",
              "type2_Water                       0.000000                         NaN"
            ],
            "text/html": [
              "\n",
              "  <div id=\"df-f3fb9ed5-e311-4c7d-addb-7425ede2732a\" class=\"colab-df-container\">\n",
              "    <div>\n",
              "<style scoped>\n",
              "    .dataframe tbody tr th:only-of-type {\n",
              "        vertical-align: middle;\n",
              "    }\n",
              "\n",
              "    .dataframe tbody tr th {\n",
              "        vertical-align: top;\n",
              "    }\n",
              "\n",
              "    .dataframe thead th {\n",
              "        text-align: right;\n",
              "    }\n",
              "</style>\n",
              "<table border=\"1\" class=\"dataframe\">\n",
              "  <thead>\n",
              "    <tr style=\"text-align: right;\">\n",
              "      <th></th>\n",
              "      <th>coeficientes con variables</th>\n",
              "      <th>coeficientes sin variables</th>\n",
              "    </tr>\n",
              "  </thead>\n",
              "  <tbody>\n",
              "    <tr>\n",
              "      <th>total</th>\n",
              "      <td>0.248025</td>\n",
              "      <td>0.212595</td>\n",
              "    </tr>\n",
              "    <tr>\n",
              "      <th>hp</th>\n",
              "      <td>0.147968</td>\n",
              "      <td>0.119102</td>\n",
              "    </tr>\n",
              "    <tr>\n",
              "      <th>attack</th>\n",
              "      <td>0.005126</td>\n",
              "      <td>0.150170</td>\n",
              "    </tr>\n",
              "    <tr>\n",
              "      <th>defense</th>\n",
              "      <td>0.158307</td>\n",
              "      <td>0.092529</td>\n",
              "    </tr>\n",
              "    <tr>\n",
              "      <th>sp_attack</th>\n",
              "      <td>0.114268</td>\n",
              "      <td>0.099109</td>\n",
              "    </tr>\n",
              "    <tr>\n",
              "      <th>sp_defense</th>\n",
              "      <td>0.000000</td>\n",
              "      <td>0.146212</td>\n",
              "    </tr>\n",
              "    <tr>\n",
              "      <th>speed</th>\n",
              "      <td>0.119196</td>\n",
              "      <td>0.180283</td>\n",
              "    </tr>\n",
              "    <tr>\n",
              "      <th>legendary</th>\n",
              "      <td>0.000000</td>\n",
              "      <td>0.000000</td>\n",
              "    </tr>\n",
              "    <tr>\n",
              "      <th>type1_Bug</th>\n",
              "      <td>0.000000</td>\n",
              "      <td>NaN</td>\n",
              "    </tr>\n",
              "    <tr>\n",
              "      <th>type1_Dark</th>\n",
              "      <td>0.000000</td>\n",
              "      <td>NaN</td>\n",
              "    </tr>\n",
              "    <tr>\n",
              "      <th>type1_Dragon</th>\n",
              "      <td>0.000000</td>\n",
              "      <td>NaN</td>\n",
              "    </tr>\n",
              "    <tr>\n",
              "      <th>type1_Electric</th>\n",
              "      <td>0.000000</td>\n",
              "      <td>NaN</td>\n",
              "    </tr>\n",
              "    <tr>\n",
              "      <th>type1_Fairy</th>\n",
              "      <td>0.047183</td>\n",
              "      <td>NaN</td>\n",
              "    </tr>\n",
              "    <tr>\n",
              "      <th>type1_Fighting</th>\n",
              "      <td>0.000000</td>\n",
              "      <td>NaN</td>\n",
              "    </tr>\n",
              "    <tr>\n",
              "      <th>type1_Fire</th>\n",
              "      <td>0.000000</td>\n",
              "      <td>NaN</td>\n",
              "    </tr>\n",
              "    <tr>\n",
              "      <th>type1_Flying</th>\n",
              "      <td>0.000000</td>\n",
              "      <td>NaN</td>\n",
              "    </tr>\n",
              "    <tr>\n",
              "      <th>type1_Ghost</th>\n",
              "      <td>0.000000</td>\n",
              "      <td>NaN</td>\n",
              "    </tr>\n",
              "    <tr>\n",
              "      <th>type1_Grass</th>\n",
              "      <td>0.000000</td>\n",
              "      <td>NaN</td>\n",
              "    </tr>\n",
              "    <tr>\n",
              "      <th>type1_Ground</th>\n",
              "      <td>0.000000</td>\n",
              "      <td>NaN</td>\n",
              "    </tr>\n",
              "    <tr>\n",
              "      <th>type1_Ice</th>\n",
              "      <td>0.000000</td>\n",
              "      <td>NaN</td>\n",
              "    </tr>\n",
              "    <tr>\n",
              "      <th>type1_Normal</th>\n",
              "      <td>0.000000</td>\n",
              "      <td>NaN</td>\n",
              "    </tr>\n",
              "    <tr>\n",
              "      <th>type1_Poison</th>\n",
              "      <td>0.000000</td>\n",
              "      <td>NaN</td>\n",
              "    </tr>\n",
              "    <tr>\n",
              "      <th>type1_Psychic</th>\n",
              "      <td>0.000000</td>\n",
              "      <td>NaN</td>\n",
              "    </tr>\n",
              "    <tr>\n",
              "      <th>type1_Rock</th>\n",
              "      <td>0.000000</td>\n",
              "      <td>NaN</td>\n",
              "    </tr>\n",
              "    <tr>\n",
              "      <th>type1_Steel</th>\n",
              "      <td>0.000000</td>\n",
              "      <td>NaN</td>\n",
              "    </tr>\n",
              "    <tr>\n",
              "      <th>type1_Water</th>\n",
              "      <td>0.000000</td>\n",
              "      <td>NaN</td>\n",
              "    </tr>\n",
              "    <tr>\n",
              "      <th>type2_Bug</th>\n",
              "      <td>0.000000</td>\n",
              "      <td>NaN</td>\n",
              "    </tr>\n",
              "    <tr>\n",
              "      <th>type2_Dark</th>\n",
              "      <td>0.000000</td>\n",
              "      <td>NaN</td>\n",
              "    </tr>\n",
              "    <tr>\n",
              "      <th>type2_Dragon</th>\n",
              "      <td>0.000000</td>\n",
              "      <td>NaN</td>\n",
              "    </tr>\n",
              "    <tr>\n",
              "      <th>type2_Electric</th>\n",
              "      <td>0.000000</td>\n",
              "      <td>NaN</td>\n",
              "    </tr>\n",
              "    <tr>\n",
              "      <th>type2_Fairy</th>\n",
              "      <td>0.000000</td>\n",
              "      <td>NaN</td>\n",
              "    </tr>\n",
              "    <tr>\n",
              "      <th>type2_Fighting</th>\n",
              "      <td>0.000000</td>\n",
              "      <td>NaN</td>\n",
              "    </tr>\n",
              "    <tr>\n",
              "      <th>type2_Fire</th>\n",
              "      <td>0.000000</td>\n",
              "      <td>NaN</td>\n",
              "    </tr>\n",
              "    <tr>\n",
              "      <th>type2_Flying</th>\n",
              "      <td>0.000000</td>\n",
              "      <td>NaN</td>\n",
              "    </tr>\n",
              "    <tr>\n",
              "      <th>type2_Ghost</th>\n",
              "      <td>0.000000</td>\n",
              "      <td>NaN</td>\n",
              "    </tr>\n",
              "    <tr>\n",
              "      <th>type2_Grass</th>\n",
              "      <td>0.000000</td>\n",
              "      <td>NaN</td>\n",
              "    </tr>\n",
              "    <tr>\n",
              "      <th>type2_Ground</th>\n",
              "      <td>0.000000</td>\n",
              "      <td>NaN</td>\n",
              "    </tr>\n",
              "    <tr>\n",
              "      <th>type2_Ice</th>\n",
              "      <td>0.000000</td>\n",
              "      <td>NaN</td>\n",
              "    </tr>\n",
              "    <tr>\n",
              "      <th>type2_None</th>\n",
              "      <td>0.026126</td>\n",
              "      <td>NaN</td>\n",
              "    </tr>\n",
              "    <tr>\n",
              "      <th>type2_Normal</th>\n",
              "      <td>0.000000</td>\n",
              "      <td>NaN</td>\n",
              "    </tr>\n",
              "    <tr>\n",
              "      <th>type2_Poison</th>\n",
              "      <td>0.068795</td>\n",
              "      <td>NaN</td>\n",
              "    </tr>\n",
              "    <tr>\n",
              "      <th>type2_Psychic</th>\n",
              "      <td>0.065007</td>\n",
              "      <td>NaN</td>\n",
              "    </tr>\n",
              "    <tr>\n",
              "      <th>type2_Rock</th>\n",
              "      <td>0.000000</td>\n",
              "      <td>NaN</td>\n",
              "    </tr>\n",
              "    <tr>\n",
              "      <th>type2_Steel</th>\n",
              "      <td>0.000000</td>\n",
              "      <td>NaN</td>\n",
              "    </tr>\n",
              "    <tr>\n",
              "      <th>type2_Water</th>\n",
              "      <td>0.000000</td>\n",
              "      <td>NaN</td>\n",
              "    </tr>\n",
              "  </tbody>\n",
              "</table>\n",
              "</div>\n",
              "    <div class=\"colab-df-buttons\">\n",
              "\n",
              "  <div class=\"colab-df-container\">\n",
              "    <button class=\"colab-df-convert\" onclick=\"convertToInteractive('df-f3fb9ed5-e311-4c7d-addb-7425ede2732a')\"\n",
              "            title=\"Convert this dataframe to an interactive table.\"\n",
              "            style=\"display:none;\">\n",
              "\n",
              "  <svg xmlns=\"http://www.w3.org/2000/svg\" height=\"24px\" viewBox=\"0 -960 960 960\">\n",
              "    <path d=\"M120-120v-720h720v720H120Zm60-500h600v-160H180v160Zm220 220h160v-160H400v160Zm0 220h160v-160H400v160ZM180-400h160v-160H180v160Zm440 0h160v-160H620v160ZM180-180h160v-160H180v160Zm440 0h160v-160H620v160Z\"/>\n",
              "  </svg>\n",
              "    </button>\n",
              "\n",
              "  <style>\n",
              "    .colab-df-container {\n",
              "      display:flex;\n",
              "      gap: 12px;\n",
              "    }\n",
              "\n",
              "    .colab-df-convert {\n",
              "      background-color: #E8F0FE;\n",
              "      border: none;\n",
              "      border-radius: 50%;\n",
              "      cursor: pointer;\n",
              "      display: none;\n",
              "      fill: #1967D2;\n",
              "      height: 32px;\n",
              "      padding: 0 0 0 0;\n",
              "      width: 32px;\n",
              "    }\n",
              "\n",
              "    .colab-df-convert:hover {\n",
              "      background-color: #E2EBFA;\n",
              "      box-shadow: 0px 1px 2px rgba(60, 64, 67, 0.3), 0px 1px 3px 1px rgba(60, 64, 67, 0.15);\n",
              "      fill: #174EA6;\n",
              "    }\n",
              "\n",
              "    .colab-df-buttons div {\n",
              "      margin-bottom: 4px;\n",
              "    }\n",
              "\n",
              "    [theme=dark] .colab-df-convert {\n",
              "      background-color: #3B4455;\n",
              "      fill: #D2E3FC;\n",
              "    }\n",
              "\n",
              "    [theme=dark] .colab-df-convert:hover {\n",
              "      background-color: #434B5C;\n",
              "      box-shadow: 0px 1px 3px 1px rgba(0, 0, 0, 0.15);\n",
              "      filter: drop-shadow(0px 1px 2px rgba(0, 0, 0, 0.3));\n",
              "      fill: #FFFFFF;\n",
              "    }\n",
              "  </style>\n",
              "\n",
              "    <script>\n",
              "      const buttonEl =\n",
              "        document.querySelector('#df-f3fb9ed5-e311-4c7d-addb-7425ede2732a button.colab-df-convert');\n",
              "      buttonEl.style.display =\n",
              "        google.colab.kernel.accessAllowed ? 'block' : 'none';\n",
              "\n",
              "      async function convertToInteractive(key) {\n",
              "        const element = document.querySelector('#df-f3fb9ed5-e311-4c7d-addb-7425ede2732a');\n",
              "        const dataTable =\n",
              "          await google.colab.kernel.invokeFunction('convertToInteractive',\n",
              "                                                    [key], {});\n",
              "        if (!dataTable) return;\n",
              "\n",
              "        const docLinkHtml = 'Like what you see? Visit the ' +\n",
              "          '<a target=\"_blank\" href=https://colab.research.google.com/notebooks/data_table.ipynb>data table notebook</a>'\n",
              "          + ' to learn more about interactive tables.';\n",
              "        element.innerHTML = '';\n",
              "        dataTable['output_type'] = 'display_data';\n",
              "        await google.colab.output.renderOutput(dataTable, element);\n",
              "        const docLink = document.createElement('div');\n",
              "        docLink.innerHTML = docLinkHtml;\n",
              "        element.appendChild(docLink);\n",
              "      }\n",
              "    </script>\n",
              "  </div>\n",
              "\n",
              "\n",
              "<div id=\"df-0a6195a1-77b0-42e0-b2e0-153839e6cd73\">\n",
              "  <button class=\"colab-df-quickchart\" onclick=\"quickchart('df-0a6195a1-77b0-42e0-b2e0-153839e6cd73')\"\n",
              "            title=\"Suggest charts\"\n",
              "            style=\"display:none;\">\n",
              "\n",
              "<svg xmlns=\"http://www.w3.org/2000/svg\" height=\"24px\"viewBox=\"0 0 24 24\"\n",
              "     width=\"24px\">\n",
              "    <g>\n",
              "        <path d=\"M19 3H5c-1.1 0-2 .9-2 2v14c0 1.1.9 2 2 2h14c1.1 0 2-.9 2-2V5c0-1.1-.9-2-2-2zM9 17H7v-7h2v7zm4 0h-2V7h2v10zm4 0h-2v-4h2v4z\"/>\n",
              "    </g>\n",
              "</svg>\n",
              "  </button>\n",
              "\n",
              "<style>\n",
              "  .colab-df-quickchart {\n",
              "      --bg-color: #E8F0FE;\n",
              "      --fill-color: #1967D2;\n",
              "      --hover-bg-color: #E2EBFA;\n",
              "      --hover-fill-color: #174EA6;\n",
              "      --disabled-fill-color: #AAA;\n",
              "      --disabled-bg-color: #DDD;\n",
              "  }\n",
              "\n",
              "  [theme=dark] .colab-df-quickchart {\n",
              "      --bg-color: #3B4455;\n",
              "      --fill-color: #D2E3FC;\n",
              "      --hover-bg-color: #434B5C;\n",
              "      --hover-fill-color: #FFFFFF;\n",
              "      --disabled-bg-color: #3B4455;\n",
              "      --disabled-fill-color: #666;\n",
              "  }\n",
              "\n",
              "  .colab-df-quickchart {\n",
              "    background-color: var(--bg-color);\n",
              "    border: none;\n",
              "    border-radius: 50%;\n",
              "    cursor: pointer;\n",
              "    display: none;\n",
              "    fill: var(--fill-color);\n",
              "    height: 32px;\n",
              "    padding: 0;\n",
              "    width: 32px;\n",
              "  }\n",
              "\n",
              "  .colab-df-quickchart:hover {\n",
              "    background-color: var(--hover-bg-color);\n",
              "    box-shadow: 0 1px 2px rgba(60, 64, 67, 0.3), 0 1px 3px 1px rgba(60, 64, 67, 0.15);\n",
              "    fill: var(--button-hover-fill-color);\n",
              "  }\n",
              "\n",
              "  .colab-df-quickchart-complete:disabled,\n",
              "  .colab-df-quickchart-complete:disabled:hover {\n",
              "    background-color: var(--disabled-bg-color);\n",
              "    fill: var(--disabled-fill-color);\n",
              "    box-shadow: none;\n",
              "  }\n",
              "\n",
              "  .colab-df-spinner {\n",
              "    border: 2px solid var(--fill-color);\n",
              "    border-color: transparent;\n",
              "    border-bottom-color: var(--fill-color);\n",
              "    animation:\n",
              "      spin 1s steps(1) infinite;\n",
              "  }\n",
              "\n",
              "  @keyframes spin {\n",
              "    0% {\n",
              "      border-color: transparent;\n",
              "      border-bottom-color: var(--fill-color);\n",
              "      border-left-color: var(--fill-color);\n",
              "    }\n",
              "    20% {\n",
              "      border-color: transparent;\n",
              "      border-left-color: var(--fill-color);\n",
              "      border-top-color: var(--fill-color);\n",
              "    }\n",
              "    30% {\n",
              "      border-color: transparent;\n",
              "      border-left-color: var(--fill-color);\n",
              "      border-top-color: var(--fill-color);\n",
              "      border-right-color: var(--fill-color);\n",
              "    }\n",
              "    40% {\n",
              "      border-color: transparent;\n",
              "      border-right-color: var(--fill-color);\n",
              "      border-top-color: var(--fill-color);\n",
              "    }\n",
              "    60% {\n",
              "      border-color: transparent;\n",
              "      border-right-color: var(--fill-color);\n",
              "    }\n",
              "    80% {\n",
              "      border-color: transparent;\n",
              "      border-right-color: var(--fill-color);\n",
              "      border-bottom-color: var(--fill-color);\n",
              "    }\n",
              "    90% {\n",
              "      border-color: transparent;\n",
              "      border-bottom-color: var(--fill-color);\n",
              "    }\n",
              "  }\n",
              "</style>\n",
              "\n",
              "  <script>\n",
              "    async function quickchart(key) {\n",
              "      const quickchartButtonEl =\n",
              "        document.querySelector('#' + key + ' button');\n",
              "      quickchartButtonEl.disabled = true;  // To prevent multiple clicks.\n",
              "      quickchartButtonEl.classList.add('colab-df-spinner');\n",
              "      try {\n",
              "        const charts = await google.colab.kernel.invokeFunction(\n",
              "            'suggestCharts', [key], {});\n",
              "      } catch (error) {\n",
              "        console.error('Error during call to suggestCharts:', error);\n",
              "      }\n",
              "      quickchartButtonEl.classList.remove('colab-df-spinner');\n",
              "      quickchartButtonEl.classList.add('colab-df-quickchart-complete');\n",
              "    }\n",
              "    (() => {\n",
              "      let quickchartButtonEl =\n",
              "        document.querySelector('#df-0a6195a1-77b0-42e0-b2e0-153839e6cd73 button');\n",
              "      quickchartButtonEl.style.display =\n",
              "        google.colab.kernel.accessAllowed ? 'block' : 'none';\n",
              "    })();\n",
              "  </script>\n",
              "</div>\n",
              "\n",
              "    </div>\n",
              "  </div>\n"
            ],
            "application/vnd.google.colaboratory.intrinsic+json": {
              "type": "dataframe",
              "summary": "{\n  \"name\": \"                               columns=['coeficientes sin variables']))\",\n  \"rows\": 45,\n  \"fields\": [\n    {\n      \"column\": \"coeficientes con variables\",\n      \"properties\": {\n        \"dtype\": \"number\",\n        \"std\": 0.05338715208232467,\n        \"min\": 0.0,\n        \"max\": 0.24802497307848775,\n        \"num_unique_values\": 11,\n        \"samples\": [\n          0.0,\n          0.24802497307848775,\n          0.0687949988561444\n        ],\n        \"semantic_type\": \"\",\n        \"description\": \"\"\n      }\n    },\n    {\n      \"column\": \"coeficientes sin variables\",\n      \"properties\": {\n        \"dtype\": \"number\",\n        \"std\": 0.06458326721330289,\n        \"min\": 0.0,\n        \"max\": 0.21259470783909618,\n        \"num_unique_values\": 8,\n        \"samples\": [\n          0.11910156029943093,\n          0.1462121837994297,\n          0.21259470783909618\n        ],\n        \"semantic_type\": \"\",\n        \"description\": \"\"\n      }\n    }\n  ]\n}"
            }
          },
          "metadata": {},
          "execution_count": 1256
        }
      ]
    },
    {
      "cell_type": "markdown",
      "metadata": {
        "id": "1S3w1hS6a42v"
      },
      "source": [
        "En este caso, podemos ver que solo unas pocas categorías son relevantes, la mayoría tienen un valor de 0. Tal vez otro modelo más complejo podría saber aprovechar estas características extra. De cualquier forma, este ejercicio corto solo fue realizado para demostrar el uso del atributo feature_importances_. Volvamos ahora a nuestro proyecto."
      ]
    },
    {
      "cell_type": "markdown",
      "source": [
        "_____________________________"
      ],
      "metadata": {
        "id": "Ft5dXs42xfVt"
      }
    },
    {
      "cell_type": "markdown",
      "source": [
        "Procedemos a remover las variables categóricas del Dataset de entrenamiento."
      ],
      "metadata": {
        "id": "u63-ag3Axoxl"
      }
    },
    {
      "cell_type": "code",
      "execution_count": 1257,
      "metadata": {
        "colab": {
          "base_uri": "https://localhost:8080/"
        },
        "id": "8qaJlHJqMWKt",
        "outputId": "6042592a-6948-43f9-bfb0-57e3cdda0a98"
      },
      "outputs": [
        {
          "output_type": "stream",
          "name": "stdout",
          "text": [
            "   total  hp  attack  defense  sp_attack  sp_defense  speed  legendary\n",
            "0    318  45      49       49         65          65     45      False\n",
            "1    405  60      62       63         80          80     60      False\n",
            "2    525  80      82       83        100         100     80      False\n",
            "5    309  39      52       43         60          50     65      False\n",
            "6    405  58      64       58         80          65     80      False\n"
          ]
        }
      ],
      "source": [
        "X = X.drop(['type1', 'type2', 'generation'], axis=1)\n",
        "\n",
        "print(X.head())"
      ]
    },
    {
      "cell_type": "markdown",
      "metadata": {
        "id": "FUdyz55ri9HR"
      },
      "source": [
        "Esta 'X' será el DataFrame con el que entrenemos todos nuestros modelos. La 'y' será una copia de la columna 'legendary'.\n",
        "\n",
        "Con esto termina la sección de preprocesamiento."
      ]
    },
    {
      "cell_type": "markdown",
      "source": [
        "## 3. Entrenamiento de los modelos"
      ],
      "metadata": {
        "id": "9Ca87PoxE1QB"
      }
    },
    {
      "cell_type": "markdown",
      "source": [
        "En este proyecto, buscaremos predecir la etiqueta 'legendary' usando las variables de tipo numéricas. Esta es una clasificación binaria que, al estudiar el material de origen, sabemos que está altamente correlacionada con las estadísticas de combate de los Pokémones."
      ],
      "metadata": {
        "id": "AkA4kNaVLVio"
      }
    },
    {
      "cell_type": "markdown",
      "source": [
        "### 3.1 Entrenamiento inicial de los modelos"
      ],
      "metadata": {
        "id": "2GUvWIJAS4LE"
      }
    },
    {
      "cell_type": "markdown",
      "source": [
        "Iniciaremos por crear un nuevo 'y' que contenga los valores de 'legendary', y una copia de X suprimiendo la columna 'legendary'."
      ],
      "metadata": {
        "id": "vg6VJdaUS9JH"
      }
    },
    {
      "cell_type": "code",
      "source": [
        "from sklearn.ensemble import RandomForestClassifier, ExtraTreesClassifier,\\\n",
        " GradientBoostingClassifier\n",
        "\n",
        "\n",
        "yleg = X['legendary']\n",
        "Xleg = X.drop('legendary', axis=1)\n",
        "\n",
        "X_train, X_test, y_train, y_test = train_test_split(Xleg, yleg, stratify=yleg)\n",
        "\n",
        "print(Xleg, yleg)"
      ],
      "metadata": {
        "colab": {
          "base_uri": "https://localhost:8080/"
        },
        "id": "fgasnteMkLKV",
        "outputId": "e7175d2b-6fb0-4be0-c031-f047ed7ccae4"
      },
      "execution_count": 1258,
      "outputs": [
        {
          "output_type": "stream",
          "name": "stdout",
          "text": [
            "      total   hp  attack  defense  sp_attack  sp_defense  speed\n",
            "0       318   45      49       49         65          65     45\n",
            "1       405   60      62       63         80          80     60\n",
            "2       525   80      82       83        100         100     80\n",
            "5       309   39      52       43         60          50     65\n",
            "6       405   58      64       58         80          65     80\n",
            "...     ...  ...     ...      ...        ...         ...    ...\n",
            "1065    580   80     100       50        100          50    200\n",
            "1066    580  200     100       50        100          50     80\n",
            "1067    580  100     145      130         65         110     30\n",
            "1068    580  100      65       60        145          80    130\n",
            "1069    500  100      80       80         80          80     80\n",
            "\n",
            "[862 rows x 7 columns] 0       False\n",
            "1       False\n",
            "2       False\n",
            "5       False\n",
            "6       False\n",
            "        ...  \n",
            "1065     True\n",
            "1066     True\n",
            "1067     True\n",
            "1068     True\n",
            "1069     True\n",
            "Name: legendary, Length: 862, dtype: bool\n"
          ]
        }
      ]
    },
    {
      "cell_type": "markdown",
      "source": [
        "como recordatorio, buscaremos predecir la etiqueta 'legendary' usando las variables de tipo numéricas. Esta es una clasificación binaria que, al estudiar el material de origen, sabemos que está altamente correlacionada con las estadísticas de combate de los Pokémones.\n",
        "Iniciaremos por crear un nuevo 'y' que contenga los valores de 'legendary', y una copia de X suprimiendo la columna 'legendary'.\n",
        "Como recordatorio, entrenaremos cuatro modelos que tienen los siguientes nombres en Scikit-learn:\n",
        "\n",
        "1. DecisionTreeClassifier\n",
        "2. RandomForestClassifier\n",
        "3. ExtraTreesClassifier\n",
        "4. GradientBoostingClassifier\n",
        "\n",
        "* DecisionTreeClassifier, es el modelo base que utilizan los otros tres, sufre problemas de sobreajuste y solamente tiene un buen desempeño encontrando relaciones simples. Sin embargo, los otros modelos se basan en el entrenamiento de conjuntos de árboles de decisión, fortaleciendo los puntos débiles del modelo individual a cambio de mayores tiempos de entrenamiento y predicción.\n",
        "\n",
        "* Random Forest entrena una cantidad n de árboles de decisión utilizando filas y columnas aleatorias cada vez, después los guarda en su memoria. Cuando va a realizar una predicción, los n árboles realizan sus predicciones individualmente para después ser promediadas; el resultado final es la predicción con el valor promedio más alto.\n",
        "\n",
        "* Extra Trees Classifier es una versión de Random Forest que introduce una mayor aleatoriedad y, con ella, un mayor control del sobreajuste al que tienden estos modelos. Funciona de la misma forma que el Random Forest, pero esta aleatoriedad extra implica mayores costos computacionales.\n",
        "\n",
        "* Gradient Boosting Decision Tree, es un único árbol de decisión que se entrena múltiples veces. Con cada iteración, el árbol aprenderá de la iteración anterior e intentará corregir los errores de su predecesor. El resultado final es un único árbol -a diferencia de los n árboles de los modelos anteriores-, generando así predicciones más rápidamente.\n",
        "\n",
        "Para entrenar estos modelos, utilizaremos una clase llamada GridSearchCV, esta clase buscará la mejor combinación de parámetros dentro de una lista dada por nosotros, aplicando cross-validation cada vez. Esta clase es computacionalmente costosa y su tiempo de ejecución aumenta exponencialmente entre más parámetros se le dan, con lo que debe ser usada con precaución, especialmente en Datasets grandes y en modelos altamente complejos como redes neuronales.\n",
        "\n",
        "En este caso, la clase fue corrida con anterioridad y sus parámetros resultantes guardados, si quiere realizar de nuevo el proceso de encontrar los hiperparámetros para comprobar los resultados, descomente el código que hay en cada celda.\n",
        "\n",
        "Ahora, entrenemos los modelos. Entrenaremos cada uno en una celda diferente para no tener que correr todos a la vez si queremos realizar un cambio a alguno en específico.\n"
      ],
      "metadata": {
        "id": "Jzp0NPeHRDCL"
      }
    },
    {
      "cell_type": "code",
      "source": [
        "from sklearn.ensemble import RandomForestClassifier,\\\n",
        "ExtraTreesClassifier, GradientBoostingClassifier\n",
        "\n",
        "# Código para encontrar los mejores parámetros\n",
        "\n",
        "'''\n",
        "gs = GridSearchCV(DecisionTreeClassifier(),\n",
        "                  {'max_depth': [5, 10, 20],\n",
        "                   'min_samples_split': [2, 5, 10],\n",
        "                   'min_samples_leaf': [1, 5, 10]})\n",
        "tree = gs.fit(X_train, y_train).best_estimator_\n",
        "'''\n",
        "\n",
        "# Entrenamiento con los parámetros encontrados\n",
        "tree = DecisionTreeClassifier(max_depth=5,\n",
        "                              min_samples_split=2,\n",
        "                              min_samples_leaf=10)\n",
        "tree.fit(X_train, y_train)"
      ],
      "metadata": {
        "id": "AuZCTkfrS4Ag",
        "colab": {
          "base_uri": "https://localhost:8080/",
          "height": 75
        },
        "outputId": "dfada927-8352-48a5-a434-e4e1d37f0896"
      },
      "execution_count": 1259,
      "outputs": [
        {
          "output_type": "execute_result",
          "data": {
            "text/plain": [
              "DecisionTreeClassifier(max_depth=5, min_samples_leaf=10)"
            ],
            "text/html": [
              "<style>#sk-container-id-176 {color: black;}#sk-container-id-176 pre{padding: 0;}#sk-container-id-176 div.sk-toggleable {background-color: white;}#sk-container-id-176 label.sk-toggleable__label {cursor: pointer;display: block;width: 100%;margin-bottom: 0;padding: 0.3em;box-sizing: border-box;text-align: center;}#sk-container-id-176 label.sk-toggleable__label-arrow:before {content: \"▸\";float: left;margin-right: 0.25em;color: #696969;}#sk-container-id-176 label.sk-toggleable__label-arrow:hover:before {color: black;}#sk-container-id-176 div.sk-estimator:hover label.sk-toggleable__label-arrow:before {color: black;}#sk-container-id-176 div.sk-toggleable__content {max-height: 0;max-width: 0;overflow: hidden;text-align: left;background-color: #f0f8ff;}#sk-container-id-176 div.sk-toggleable__content pre {margin: 0.2em;color: black;border-radius: 0.25em;background-color: #f0f8ff;}#sk-container-id-176 input.sk-toggleable__control:checked~div.sk-toggleable__content {max-height: 200px;max-width: 100%;overflow: auto;}#sk-container-id-176 input.sk-toggleable__control:checked~label.sk-toggleable__label-arrow:before {content: \"▾\";}#sk-container-id-176 div.sk-estimator input.sk-toggleable__control:checked~label.sk-toggleable__label {background-color: #d4ebff;}#sk-container-id-176 div.sk-label input.sk-toggleable__control:checked~label.sk-toggleable__label {background-color: #d4ebff;}#sk-container-id-176 input.sk-hidden--visually {border: 0;clip: rect(1px 1px 1px 1px);clip: rect(1px, 1px, 1px, 1px);height: 1px;margin: -1px;overflow: hidden;padding: 0;position: absolute;width: 1px;}#sk-container-id-176 div.sk-estimator {font-family: monospace;background-color: #f0f8ff;border: 1px dotted black;border-radius: 0.25em;box-sizing: border-box;margin-bottom: 0.5em;}#sk-container-id-176 div.sk-estimator:hover {background-color: #d4ebff;}#sk-container-id-176 div.sk-parallel-item::after {content: \"\";width: 100%;border-bottom: 1px solid gray;flex-grow: 1;}#sk-container-id-176 div.sk-label:hover label.sk-toggleable__label {background-color: #d4ebff;}#sk-container-id-176 div.sk-serial::before {content: \"\";position: absolute;border-left: 1px solid gray;box-sizing: border-box;top: 0;bottom: 0;left: 50%;z-index: 0;}#sk-container-id-176 div.sk-serial {display: flex;flex-direction: column;align-items: center;background-color: white;padding-right: 0.2em;padding-left: 0.2em;position: relative;}#sk-container-id-176 div.sk-item {position: relative;z-index: 1;}#sk-container-id-176 div.sk-parallel {display: flex;align-items: stretch;justify-content: center;background-color: white;position: relative;}#sk-container-id-176 div.sk-item::before, #sk-container-id-176 div.sk-parallel-item::before {content: \"\";position: absolute;border-left: 1px solid gray;box-sizing: border-box;top: 0;bottom: 0;left: 50%;z-index: -1;}#sk-container-id-176 div.sk-parallel-item {display: flex;flex-direction: column;z-index: 1;position: relative;background-color: white;}#sk-container-id-176 div.sk-parallel-item:first-child::after {align-self: flex-end;width: 50%;}#sk-container-id-176 div.sk-parallel-item:last-child::after {align-self: flex-start;width: 50%;}#sk-container-id-176 div.sk-parallel-item:only-child::after {width: 0;}#sk-container-id-176 div.sk-dashed-wrapped {border: 1px dashed gray;margin: 0 0.4em 0.5em 0.4em;box-sizing: border-box;padding-bottom: 0.4em;background-color: white;}#sk-container-id-176 div.sk-label label {font-family: monospace;font-weight: bold;display: inline-block;line-height: 1.2em;}#sk-container-id-176 div.sk-label-container {text-align: center;}#sk-container-id-176 div.sk-container {/* jupyter's `normalize.less` sets `[hidden] { display: none; }` but bootstrap.min.css set `[hidden] { display: none !important; }` so we also need the `!important` here to be able to override the default hidden behavior on the sphinx rendered scikit-learn.org. See: https://github.com/scikit-learn/scikit-learn/issues/21755 */display: inline-block !important;position: relative;}#sk-container-id-176 div.sk-text-repr-fallback {display: none;}</style><div id=\"sk-container-id-176\" class=\"sk-top-container\"><div class=\"sk-text-repr-fallback\"><pre>DecisionTreeClassifier(max_depth=5, min_samples_leaf=10)</pre><b>In a Jupyter environment, please rerun this cell to show the HTML representation or trust the notebook. <br />On GitHub, the HTML representation is unable to render, please try loading this page with nbviewer.org.</b></div><div class=\"sk-container\" hidden><div class=\"sk-item\"><div class=\"sk-estimator sk-toggleable\"><input class=\"sk-toggleable__control sk-hidden--visually\" id=\"sk-estimator-id-176\" type=\"checkbox\" checked><label for=\"sk-estimator-id-176\" class=\"sk-toggleable__label sk-toggleable__label-arrow\">DecisionTreeClassifier</label><div class=\"sk-toggleable__content\"><pre>DecisionTreeClassifier(max_depth=5, min_samples_leaf=10)</pre></div></div></div></div></div>"
            ]
          },
          "metadata": {},
          "execution_count": 1259
        }
      ]
    },
    {
      "cell_type": "code",
      "source": [
        "# Código para encontrar los mejores parámetros\n",
        "\n",
        "'''\n",
        "gs = GridSearchCV(RandomForestClassifier(),\n",
        "                  {'n_estimators': [100, 200],\n",
        "                   'max_depth': [10, 20, 30],\n",
        "                   'min_samples_split': [2, 5],\n",
        "                   'min_samples_leaf': [1, 2],\n",
        "                   'max_features': ['sqrt', 'log2']})\n",
        "forest = gs.fit(X_train, y_train).best_estimator_\n",
        "'''\n",
        "\n",
        "# Entrenamiento con los parámetros encontrados\n",
        "forest = RandomForestClassifier(n_estimators=100,\n",
        "                                max_depth=10,\n",
        "                                min_samples_split=2,\n",
        "                                min_samples_leaf=1)\n",
        "forest.fit(X_train, y_train)"
      ],
      "metadata": {
        "id": "7dXKJP1kS_a2",
        "colab": {
          "base_uri": "https://localhost:8080/",
          "height": 75
        },
        "outputId": "3bff3e38-7533-452d-84f9-bbfb90fc070a"
      },
      "execution_count": 1260,
      "outputs": [
        {
          "output_type": "execute_result",
          "data": {
            "text/plain": [
              "RandomForestClassifier(max_depth=10)"
            ],
            "text/html": [
              "<style>#sk-container-id-177 {color: black;}#sk-container-id-177 pre{padding: 0;}#sk-container-id-177 div.sk-toggleable {background-color: white;}#sk-container-id-177 label.sk-toggleable__label {cursor: pointer;display: block;width: 100%;margin-bottom: 0;padding: 0.3em;box-sizing: border-box;text-align: center;}#sk-container-id-177 label.sk-toggleable__label-arrow:before {content: \"▸\";float: left;margin-right: 0.25em;color: #696969;}#sk-container-id-177 label.sk-toggleable__label-arrow:hover:before {color: black;}#sk-container-id-177 div.sk-estimator:hover label.sk-toggleable__label-arrow:before {color: black;}#sk-container-id-177 div.sk-toggleable__content {max-height: 0;max-width: 0;overflow: hidden;text-align: left;background-color: #f0f8ff;}#sk-container-id-177 div.sk-toggleable__content pre {margin: 0.2em;color: black;border-radius: 0.25em;background-color: #f0f8ff;}#sk-container-id-177 input.sk-toggleable__control:checked~div.sk-toggleable__content {max-height: 200px;max-width: 100%;overflow: auto;}#sk-container-id-177 input.sk-toggleable__control:checked~label.sk-toggleable__label-arrow:before {content: \"▾\";}#sk-container-id-177 div.sk-estimator input.sk-toggleable__control:checked~label.sk-toggleable__label {background-color: #d4ebff;}#sk-container-id-177 div.sk-label input.sk-toggleable__control:checked~label.sk-toggleable__label {background-color: #d4ebff;}#sk-container-id-177 input.sk-hidden--visually {border: 0;clip: rect(1px 1px 1px 1px);clip: rect(1px, 1px, 1px, 1px);height: 1px;margin: -1px;overflow: hidden;padding: 0;position: absolute;width: 1px;}#sk-container-id-177 div.sk-estimator {font-family: monospace;background-color: #f0f8ff;border: 1px dotted black;border-radius: 0.25em;box-sizing: border-box;margin-bottom: 0.5em;}#sk-container-id-177 div.sk-estimator:hover {background-color: #d4ebff;}#sk-container-id-177 div.sk-parallel-item::after {content: \"\";width: 100%;border-bottom: 1px solid gray;flex-grow: 1;}#sk-container-id-177 div.sk-label:hover label.sk-toggleable__label {background-color: #d4ebff;}#sk-container-id-177 div.sk-serial::before {content: \"\";position: absolute;border-left: 1px solid gray;box-sizing: border-box;top: 0;bottom: 0;left: 50%;z-index: 0;}#sk-container-id-177 div.sk-serial {display: flex;flex-direction: column;align-items: center;background-color: white;padding-right: 0.2em;padding-left: 0.2em;position: relative;}#sk-container-id-177 div.sk-item {position: relative;z-index: 1;}#sk-container-id-177 div.sk-parallel {display: flex;align-items: stretch;justify-content: center;background-color: white;position: relative;}#sk-container-id-177 div.sk-item::before, #sk-container-id-177 div.sk-parallel-item::before {content: \"\";position: absolute;border-left: 1px solid gray;box-sizing: border-box;top: 0;bottom: 0;left: 50%;z-index: -1;}#sk-container-id-177 div.sk-parallel-item {display: flex;flex-direction: column;z-index: 1;position: relative;background-color: white;}#sk-container-id-177 div.sk-parallel-item:first-child::after {align-self: flex-end;width: 50%;}#sk-container-id-177 div.sk-parallel-item:last-child::after {align-self: flex-start;width: 50%;}#sk-container-id-177 div.sk-parallel-item:only-child::after {width: 0;}#sk-container-id-177 div.sk-dashed-wrapped {border: 1px dashed gray;margin: 0 0.4em 0.5em 0.4em;box-sizing: border-box;padding-bottom: 0.4em;background-color: white;}#sk-container-id-177 div.sk-label label {font-family: monospace;font-weight: bold;display: inline-block;line-height: 1.2em;}#sk-container-id-177 div.sk-label-container {text-align: center;}#sk-container-id-177 div.sk-container {/* jupyter's `normalize.less` sets `[hidden] { display: none; }` but bootstrap.min.css set `[hidden] { display: none !important; }` so we also need the `!important` here to be able to override the default hidden behavior on the sphinx rendered scikit-learn.org. See: https://github.com/scikit-learn/scikit-learn/issues/21755 */display: inline-block !important;position: relative;}#sk-container-id-177 div.sk-text-repr-fallback {display: none;}</style><div id=\"sk-container-id-177\" class=\"sk-top-container\"><div class=\"sk-text-repr-fallback\"><pre>RandomForestClassifier(max_depth=10)</pre><b>In a Jupyter environment, please rerun this cell to show the HTML representation or trust the notebook. <br />On GitHub, the HTML representation is unable to render, please try loading this page with nbviewer.org.</b></div><div class=\"sk-container\" hidden><div class=\"sk-item\"><div class=\"sk-estimator sk-toggleable\"><input class=\"sk-toggleable__control sk-hidden--visually\" id=\"sk-estimator-id-177\" type=\"checkbox\" checked><label for=\"sk-estimator-id-177\" class=\"sk-toggleable__label sk-toggleable__label-arrow\">RandomForestClassifier</label><div class=\"sk-toggleable__content\"><pre>RandomForestClassifier(max_depth=10)</pre></div></div></div></div></div>"
            ]
          },
          "metadata": {},
          "execution_count": 1260
        }
      ]
    },
    {
      "cell_type": "code",
      "source": [
        "# Código para encontrar los mejores parámetros\n",
        "\n",
        "'''\n",
        "gs = GridSearchCV(ExtraTreesClassifier(),\n",
        "                  {'n_estimators': [100, 200],\n",
        "                   'max_depth': [10, 20, 30],\n",
        "                   'min_samples_split': [2, 5],\n",
        "                   'min_samples_leaf': [1, 2],\n",
        "                   'max_features': ['sqrt', 'log2']})\n",
        "extra = gs.fit(X_train, y_train).best_estimator_\n",
        "'''\n",
        "\n",
        "# Entrenamiento con los parámetros encontrados\n",
        "extra = ExtraTreesClassifier(n_estimators=100,\n",
        "                             max_depth=20,\n",
        "                             min_samples_split=2,\n",
        "                             min_samples_leaf=1)\n",
        "extra.fit(X_train, y_train)"
      ],
      "metadata": {
        "id": "Rlf4qHrUTCFJ",
        "colab": {
          "base_uri": "https://localhost:8080/",
          "height": 75
        },
        "outputId": "1f96cb5f-1599-4301-eda9-cd722bfdcfe8"
      },
      "execution_count": 1261,
      "outputs": [
        {
          "output_type": "execute_result",
          "data": {
            "text/plain": [
              "ExtraTreesClassifier(max_depth=20)"
            ],
            "text/html": [
              "<style>#sk-container-id-178 {color: black;}#sk-container-id-178 pre{padding: 0;}#sk-container-id-178 div.sk-toggleable {background-color: white;}#sk-container-id-178 label.sk-toggleable__label {cursor: pointer;display: block;width: 100%;margin-bottom: 0;padding: 0.3em;box-sizing: border-box;text-align: center;}#sk-container-id-178 label.sk-toggleable__label-arrow:before {content: \"▸\";float: left;margin-right: 0.25em;color: #696969;}#sk-container-id-178 label.sk-toggleable__label-arrow:hover:before {color: black;}#sk-container-id-178 div.sk-estimator:hover label.sk-toggleable__label-arrow:before {color: black;}#sk-container-id-178 div.sk-toggleable__content {max-height: 0;max-width: 0;overflow: hidden;text-align: left;background-color: #f0f8ff;}#sk-container-id-178 div.sk-toggleable__content pre {margin: 0.2em;color: black;border-radius: 0.25em;background-color: #f0f8ff;}#sk-container-id-178 input.sk-toggleable__control:checked~div.sk-toggleable__content {max-height: 200px;max-width: 100%;overflow: auto;}#sk-container-id-178 input.sk-toggleable__control:checked~label.sk-toggleable__label-arrow:before {content: \"▾\";}#sk-container-id-178 div.sk-estimator input.sk-toggleable__control:checked~label.sk-toggleable__label {background-color: #d4ebff;}#sk-container-id-178 div.sk-label input.sk-toggleable__control:checked~label.sk-toggleable__label {background-color: #d4ebff;}#sk-container-id-178 input.sk-hidden--visually {border: 0;clip: rect(1px 1px 1px 1px);clip: rect(1px, 1px, 1px, 1px);height: 1px;margin: -1px;overflow: hidden;padding: 0;position: absolute;width: 1px;}#sk-container-id-178 div.sk-estimator {font-family: monospace;background-color: #f0f8ff;border: 1px dotted black;border-radius: 0.25em;box-sizing: border-box;margin-bottom: 0.5em;}#sk-container-id-178 div.sk-estimator:hover {background-color: #d4ebff;}#sk-container-id-178 div.sk-parallel-item::after {content: \"\";width: 100%;border-bottom: 1px solid gray;flex-grow: 1;}#sk-container-id-178 div.sk-label:hover label.sk-toggleable__label {background-color: #d4ebff;}#sk-container-id-178 div.sk-serial::before {content: \"\";position: absolute;border-left: 1px solid gray;box-sizing: border-box;top: 0;bottom: 0;left: 50%;z-index: 0;}#sk-container-id-178 div.sk-serial {display: flex;flex-direction: column;align-items: center;background-color: white;padding-right: 0.2em;padding-left: 0.2em;position: relative;}#sk-container-id-178 div.sk-item {position: relative;z-index: 1;}#sk-container-id-178 div.sk-parallel {display: flex;align-items: stretch;justify-content: center;background-color: white;position: relative;}#sk-container-id-178 div.sk-item::before, #sk-container-id-178 div.sk-parallel-item::before {content: \"\";position: absolute;border-left: 1px solid gray;box-sizing: border-box;top: 0;bottom: 0;left: 50%;z-index: -1;}#sk-container-id-178 div.sk-parallel-item {display: flex;flex-direction: column;z-index: 1;position: relative;background-color: white;}#sk-container-id-178 div.sk-parallel-item:first-child::after {align-self: flex-end;width: 50%;}#sk-container-id-178 div.sk-parallel-item:last-child::after {align-self: flex-start;width: 50%;}#sk-container-id-178 div.sk-parallel-item:only-child::after {width: 0;}#sk-container-id-178 div.sk-dashed-wrapped {border: 1px dashed gray;margin: 0 0.4em 0.5em 0.4em;box-sizing: border-box;padding-bottom: 0.4em;background-color: white;}#sk-container-id-178 div.sk-label label {font-family: monospace;font-weight: bold;display: inline-block;line-height: 1.2em;}#sk-container-id-178 div.sk-label-container {text-align: center;}#sk-container-id-178 div.sk-container {/* jupyter's `normalize.less` sets `[hidden] { display: none; }` but bootstrap.min.css set `[hidden] { display: none !important; }` so we also need the `!important` here to be able to override the default hidden behavior on the sphinx rendered scikit-learn.org. See: https://github.com/scikit-learn/scikit-learn/issues/21755 */display: inline-block !important;position: relative;}#sk-container-id-178 div.sk-text-repr-fallback {display: none;}</style><div id=\"sk-container-id-178\" class=\"sk-top-container\"><div class=\"sk-text-repr-fallback\"><pre>ExtraTreesClassifier(max_depth=20)</pre><b>In a Jupyter environment, please rerun this cell to show the HTML representation or trust the notebook. <br />On GitHub, the HTML representation is unable to render, please try loading this page with nbviewer.org.</b></div><div class=\"sk-container\" hidden><div class=\"sk-item\"><div class=\"sk-estimator sk-toggleable\"><input class=\"sk-toggleable__control sk-hidden--visually\" id=\"sk-estimator-id-178\" type=\"checkbox\" checked><label for=\"sk-estimator-id-178\" class=\"sk-toggleable__label sk-toggleable__label-arrow\">ExtraTreesClassifier</label><div class=\"sk-toggleable__content\"><pre>ExtraTreesClassifier(max_depth=20)</pre></div></div></div></div></div>"
            ]
          },
          "metadata": {},
          "execution_count": 1261
        }
      ]
    },
    {
      "cell_type": "code",
      "source": [
        "# Código para encontrar los mejores parámetros\n",
        "\n",
        "'''\n",
        "gs = GridSearchCV(GradientBoostingClassifier(),\n",
        "                  {'n_estimators': [150, 200],\n",
        "                   'learning_rate': [0.01, 0.05, 0.1],\n",
        "                   'max_depth': [3, 5, 7],\n",
        "                   'subsample': [0.8, 1.0]})\n",
        "gradient = gs.fit(X_train, y_train).best_estimator_\n",
        "'''\n",
        "\n",
        "# Entrenamiento con los parámetros encontrados\n",
        "gradient = GradientBoostingClassifier(n_estimators=200,\n",
        "                                      learning_rate=0.05,\n",
        "                                      max_depth=7,\n",
        "                                      subsample=0.8)\n",
        "gradient.fit(X_train, y_train)"
      ],
      "metadata": {
        "id": "vj3_GDGJTEVR",
        "colab": {
          "base_uri": "https://localhost:8080/",
          "height": 92
        },
        "outputId": "6260a2b5-6854-4feb-f00e-88c3d0e44250"
      },
      "execution_count": 1262,
      "outputs": [
        {
          "output_type": "execute_result",
          "data": {
            "text/plain": [
              "GradientBoostingClassifier(learning_rate=0.05, max_depth=7, n_estimators=200,\n",
              "                           subsample=0.8)"
            ],
            "text/html": [
              "<style>#sk-container-id-179 {color: black;}#sk-container-id-179 pre{padding: 0;}#sk-container-id-179 div.sk-toggleable {background-color: white;}#sk-container-id-179 label.sk-toggleable__label {cursor: pointer;display: block;width: 100%;margin-bottom: 0;padding: 0.3em;box-sizing: border-box;text-align: center;}#sk-container-id-179 label.sk-toggleable__label-arrow:before {content: \"▸\";float: left;margin-right: 0.25em;color: #696969;}#sk-container-id-179 label.sk-toggleable__label-arrow:hover:before {color: black;}#sk-container-id-179 div.sk-estimator:hover label.sk-toggleable__label-arrow:before {color: black;}#sk-container-id-179 div.sk-toggleable__content {max-height: 0;max-width: 0;overflow: hidden;text-align: left;background-color: #f0f8ff;}#sk-container-id-179 div.sk-toggleable__content pre {margin: 0.2em;color: black;border-radius: 0.25em;background-color: #f0f8ff;}#sk-container-id-179 input.sk-toggleable__control:checked~div.sk-toggleable__content {max-height: 200px;max-width: 100%;overflow: auto;}#sk-container-id-179 input.sk-toggleable__control:checked~label.sk-toggleable__label-arrow:before {content: \"▾\";}#sk-container-id-179 div.sk-estimator input.sk-toggleable__control:checked~label.sk-toggleable__label {background-color: #d4ebff;}#sk-container-id-179 div.sk-label input.sk-toggleable__control:checked~label.sk-toggleable__label {background-color: #d4ebff;}#sk-container-id-179 input.sk-hidden--visually {border: 0;clip: rect(1px 1px 1px 1px);clip: rect(1px, 1px, 1px, 1px);height: 1px;margin: -1px;overflow: hidden;padding: 0;position: absolute;width: 1px;}#sk-container-id-179 div.sk-estimator {font-family: monospace;background-color: #f0f8ff;border: 1px dotted black;border-radius: 0.25em;box-sizing: border-box;margin-bottom: 0.5em;}#sk-container-id-179 div.sk-estimator:hover {background-color: #d4ebff;}#sk-container-id-179 div.sk-parallel-item::after {content: \"\";width: 100%;border-bottom: 1px solid gray;flex-grow: 1;}#sk-container-id-179 div.sk-label:hover label.sk-toggleable__label {background-color: #d4ebff;}#sk-container-id-179 div.sk-serial::before {content: \"\";position: absolute;border-left: 1px solid gray;box-sizing: border-box;top: 0;bottom: 0;left: 50%;z-index: 0;}#sk-container-id-179 div.sk-serial {display: flex;flex-direction: column;align-items: center;background-color: white;padding-right: 0.2em;padding-left: 0.2em;position: relative;}#sk-container-id-179 div.sk-item {position: relative;z-index: 1;}#sk-container-id-179 div.sk-parallel {display: flex;align-items: stretch;justify-content: center;background-color: white;position: relative;}#sk-container-id-179 div.sk-item::before, #sk-container-id-179 div.sk-parallel-item::before {content: \"\";position: absolute;border-left: 1px solid gray;box-sizing: border-box;top: 0;bottom: 0;left: 50%;z-index: -1;}#sk-container-id-179 div.sk-parallel-item {display: flex;flex-direction: column;z-index: 1;position: relative;background-color: white;}#sk-container-id-179 div.sk-parallel-item:first-child::after {align-self: flex-end;width: 50%;}#sk-container-id-179 div.sk-parallel-item:last-child::after {align-self: flex-start;width: 50%;}#sk-container-id-179 div.sk-parallel-item:only-child::after {width: 0;}#sk-container-id-179 div.sk-dashed-wrapped {border: 1px dashed gray;margin: 0 0.4em 0.5em 0.4em;box-sizing: border-box;padding-bottom: 0.4em;background-color: white;}#sk-container-id-179 div.sk-label label {font-family: monospace;font-weight: bold;display: inline-block;line-height: 1.2em;}#sk-container-id-179 div.sk-label-container {text-align: center;}#sk-container-id-179 div.sk-container {/* jupyter's `normalize.less` sets `[hidden] { display: none; }` but bootstrap.min.css set `[hidden] { display: none !important; }` so we also need the `!important` here to be able to override the default hidden behavior on the sphinx rendered scikit-learn.org. See: https://github.com/scikit-learn/scikit-learn/issues/21755 */display: inline-block !important;position: relative;}#sk-container-id-179 div.sk-text-repr-fallback {display: none;}</style><div id=\"sk-container-id-179\" class=\"sk-top-container\"><div class=\"sk-text-repr-fallback\"><pre>GradientBoostingClassifier(learning_rate=0.05, max_depth=7, n_estimators=200,\n",
              "                           subsample=0.8)</pre><b>In a Jupyter environment, please rerun this cell to show the HTML representation or trust the notebook. <br />On GitHub, the HTML representation is unable to render, please try loading this page with nbviewer.org.</b></div><div class=\"sk-container\" hidden><div class=\"sk-item\"><div class=\"sk-estimator sk-toggleable\"><input class=\"sk-toggleable__control sk-hidden--visually\" id=\"sk-estimator-id-179\" type=\"checkbox\" checked><label for=\"sk-estimator-id-179\" class=\"sk-toggleable__label sk-toggleable__label-arrow\">GradientBoostingClassifier</label><div class=\"sk-toggleable__content\"><pre>GradientBoostingClassifier(learning_rate=0.05, max_depth=7, n_estimators=200,\n",
              "                           subsample=0.8)</pre></div></div></div></div></div>"
            ]
          },
          "metadata": {},
          "execution_count": 1262
        }
      ]
    },
    {
      "cell_type": "code",
      "source": [
        "# Función que recibe una lista de modelos y devuelve su puntaje de exactitud\n",
        "def evaluar(models):\n",
        "  results = []\n",
        "  for model in models:\n",
        "    results.append((\n",
        "        model.score(X_train, y_train),\n",
        "        model.score(X_test, y_test),\n",
        "    ))\n",
        "  return results\n",
        "\n",
        "results = evaluar([tree, forest, extra, gradient])\n",
        "\n",
        "print('Puntajes del árbol individual\\n\\nTrain:', results[0][0],\n",
        "      '\\nTest:', results[0][1])\n",
        "print('\\nPuntajes del random forest\\n\\nTrain:', results[1][0],\n",
        "      '\\nTest:', results[1][1])\n",
        "print('\\nPuntajes del extra trees\\n\\nTrain:', results[2][0],\n",
        "      '\\nTest:', results[2][1])\n",
        "print('\\nPuntajes del gradient boosting classifier\\n\\nTrain:', results[3][0],\n",
        "      '\\nTest:', results[3][1])"
      ],
      "metadata": {
        "colab": {
          "base_uri": "https://localhost:8080/"
        },
        "id": "2H8Z6OmRVQwb",
        "outputId": "c6c13a74-4c14-44f6-f01f-7b61f0f47d8b"
      },
      "execution_count": 1263,
      "outputs": [
        {
          "output_type": "stream",
          "name": "stdout",
          "text": [
            "Puntajes del árbol individual\n",
            "\n",
            "Train: 0.9767801857585139 \n",
            "Test: 0.9675925925925926\n",
            "\n",
            "Puntajes del random forest\n",
            "\n",
            "Train: 1.0 \n",
            "Test: 0.9675925925925926\n",
            "\n",
            "Puntajes del extra trees\n",
            "\n",
            "Train: 1.0 \n",
            "Test: 0.9722222222222222\n",
            "\n",
            "Puntajes del gradient boosting classifier\n",
            "\n",
            "Train: 1.0 \n",
            "Test: 0.9814814814814815\n"
          ]
        }
      ]
    },
    {
      "cell_type": "markdown",
      "source": [
        "En este caso, debido al tamaño relativamente pequeño del DataFrame y a la simplicidad del modelo, el entrenamiento con GridSearchCV no tomó mucho tiempo, sin embargo, para modelos o DataFrames más complejos, el tiempo de entrenamiento se puede convertir en un verdadero desafío. Si queremos reducir este tiempo, podemos tomar algunas acciones como:\n",
        "\n",
        "* Reducir la cantidad de parámetros presentes en el param_grid de GridSearchCV o, en su defecto, reducir la cantidad de opciones presentes en cada parámetro.\n",
        "\n",
        "* Asignarle un valor cv < 5 a GridSearchCV, esto significa que GridSearchCV realizará menos cross-validations por cada entrenamiento, pues por defecto realiza cinco.\n",
        "\n",
        "* Revisitar el DataFrame de entrenamiento y buscar formas de reducir su dimensionalidad.\n"
      ],
      "metadata": {
        "id": "KdMIA0Yxewt2"
      }
    },
    {
      "cell_type": "markdown",
      "source": [
        "### 3.2 Análisis de desempeño"
      ],
      "metadata": {
        "id": "KBvlSOb-aD_I"
      }
    },
    {
      "cell_type": "markdown",
      "source": [
        "Puede que el puntaje de exactitud de los modelos parezca muy bueno, sin embargo, debemos tener en cuenta varias cosas a la hora de analizar su rendimiento:\n",
        "\n",
        "* Todos los modelos menos el árbol individual están sobre ajustando, como se evidencia por su puntaje perfecto en el set de entrenamiento ¿Podemos mejorar su rendimiento haciéndolos generalizar más?\n",
        "\n",
        "*  Las etiquetas están desbalanceadas: el DataFrame contiene un total de 79 legendarios (9.2%) y 783 (90.8%) no-legendarios, entonces ¿Nuestro modelo de verdad está prediciendo bien? ¿O simplemente **parece** estar prediciendo bien debido al desbalance?\n",
        "\n",
        "Primero lidiaremos con el tema del desbalance, para averiguar si nuestros modelos están prediciendo bien, entrenaremos un DummyClassifier; un clasificador que siempre predecirá la moda de los valores (en este caso, False), y compararemos su desempeño con nuestro mejor modelo, el Gradient Boosting Classifier.\n",
        "\n",
        "Después de esto, observaremos la matriz de confusión del gradient boosting classifier para observar más a fondo sus errores y diagnosticarlos.\n"
      ],
      "metadata": {
        "id": "15mgxjLUOEU_"
      }
    },
    {
      "cell_type": "code",
      "source": [
        "from sklearn.dummy import DummyClassifier\n",
        "\n",
        "dummy = DummyClassifier(strategy='most_frequent')\n",
        "dummy.fit(X_train, y_train)\n",
        "\n",
        "results = evaluar([dummy, gradient])\n",
        "\n",
        "print('Puntajes del dummy classifier\\n\\nTrain:', results[0][0],\n",
        "      '\\nTest:', results[0][1])\n",
        "print('\\nPuntajes del gradient boosting tree\\n\\nTrain:', results[1][0],\n",
        "      '\\nTest:', results[1][1])"
      ],
      "metadata": {
        "colab": {
          "base_uri": "https://localhost:8080/"
        },
        "id": "mpIjAXEUOyGz",
        "outputId": "99af69a0-ab24-431c-f349-5fca0caed8c7"
      },
      "execution_count": 1264,
      "outputs": [
        {
          "output_type": "stream",
          "name": "stdout",
          "text": [
            "Puntajes del dummy classifier\n",
            "\n",
            "Train: 0.9086687306501547 \n",
            "Test: 0.9074074074074074\n",
            "\n",
            "Puntajes del gradient boosting tree\n",
            "\n",
            "Train: 1.0 \n",
            "Test: 0.9814814814814815\n"
          ]
        }
      ]
    },
    {
      "cell_type": "markdown",
      "source": [
        "Observemos primero la matriz de confusión del dummy classifier."
      ],
      "metadata": {
        "id": "UoxOGQ4JgXR6"
      }
    },
    {
      "cell_type": "code",
      "source": [
        "from sklearn.metrics import confusion_matrix, ConfusionMatrixDisplay\n",
        "\n",
        "dum_ypred = dummy.predict(X_test)\n",
        "\n",
        "dum_matrix = confusion_matrix(y_test, dum_ypred)\n",
        "dum_display = ConfusionMatrixDisplay(confusion_matrix=dum_matrix,\n",
        "                                 display_labels=dummy.classes_)\n",
        "dum_display.plot()"
      ],
      "metadata": {
        "colab": {
          "base_uri": "https://localhost:8080/",
          "height": 466
        },
        "id": "YjrMlil4Raya",
        "outputId": "80835cd2-cf31-4938-c585-cd6ddf2ac90e"
      },
      "execution_count": 1265,
      "outputs": [
        {
          "output_type": "execute_result",
          "data": {
            "text/plain": [
              "<sklearn.metrics._plot.confusion_matrix.ConfusionMatrixDisplay at 0x7e5c0f6a0df0>"
            ]
          },
          "metadata": {},
          "execution_count": 1265
        },
        {
          "output_type": "display_data",
          "data": {
            "text/plain": [
              "<Figure size 640x480 with 2 Axes>"
            ],
            "image/png": "[encoded data removed]"
          },
          "metadata": {}
        }
      ]
    },
    {
      "cell_type": "markdown",
      "source": [
        "Ahora observemos la del Gradient Boosting Classifier."
      ],
      "metadata": {
        "id": "ybETmWQTf1ZS"
      }
    },
    {
      "cell_type": "code",
      "source": [
        "ypred = gradient.predict(X_test)\n",
        "\n",
        "matrix = confusion_matrix(y_test, ypred)\n",
        "display = ConfusionMatrixDisplay(confusion_matrix=matrix,\n",
        "                                 display_labels=gradient.classes_)\n",
        "display.plot()"
      ],
      "metadata": {
        "colab": {
          "base_uri": "https://localhost:8080/",
          "height": 466
        },
        "id": "9fuzlWjuf8H1",
        "outputId": "26cec2d5-ccc9-442b-8381-09ff7b94f935"
      },
      "execution_count": 1266,
      "outputs": [
        {
          "output_type": "execute_result",
          "data": {
            "text/plain": [
              "<sklearn.metrics._plot.confusion_matrix.ConfusionMatrixDisplay at 0x7e5c0f5c8e80>"
            ]
          },
          "metadata": {},
          "execution_count": 1266
        },
        {
          "output_type": "display_data",
          "data": {
            "text/plain": [
              "<Figure size 640x480 with 2 Axes>"
            ],
            "image/png": "[encoded data removed]"
          },
          "metadata": {}
        }
      ]
    },
    {
      "cell_type": "markdown",
      "source": [
        "Ahora que tenemos la matriz de confusión, podemos observar más a fondo los resultados y hacer un mejor análisis:\n",
        "\n",
        "* 19 de los 20 Pokémones legendarios fueron clasificados como legendarios.\n",
        "\n",
        "* 19 de los 22 Pokémones a los que el modelo clasificó como legendarios, fueron clasificados correctamente.\n",
        "\n",
        "El modelo tiene un desempeño bueno, sin embargo, viéndolo de esta forma no se parece al 98% de exactitud que nos había sido indicado anteriormente, ¿verdad? Esto se debe a que la métrica de exactitud es la más simple y directa de todas, mide predicciones correctas sobre predicciones totales.\n",
        "\n",
        "Si tenemos un DataFrame desbalanceado esta medida no es muy realista, tampoco sirve si tenemos prioridades específicas (por ejemplo, si queremos clasificar a **todos** los legendarios correctamente, incluso si eso implica clasificar algunos no legendarios como legendarios). En estos casos, tenemos tres medidas útiles: Precision, Recall, y F1-score.\n"
      ],
      "metadata": {
        "id": "WKMt6T0LTha9"
      }
    },
    {
      "cell_type": "markdown",
      "source": [
        "![1_XbE6Fx9P9Q0w5QG-52BaRQ.png](data:image/png;base64,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)\n",
        "\n",
        "Imagen tomada de: https://medium.com/@weidagang/demystifying-precision-and-recall-in-machine-learning-6f756a4c54ac"
      ],
      "metadata": {
        "id": "sIg5YcV1YI6m"
      }
    },
    {
      "cell_type": "markdown",
      "source": [
        "* Precision: Esta medida evalúa únicamente las instancias donde el modelo da una predicción positiva. toma los verdaderos positivos y los divide por la suma de los verdaderos positivos y falsos positivos.\n",
        "\n",
        "En el caso de este modelo, precision: (19 / (19 + 3)) = 0.86\n",
        "\n",
        "* Recall: Esta medida evalúa únicamente las instancias donde la etiqueta verdadera era positiva. toma los verdaderos positivos y los divide por la suma de los verdaderos positivos y los falsos negativos.\n",
        "\n",
        "En el caso de este modelo, recall: (19 / (19 + 1)) = 0.95\n",
        "\n",
        "* F1-score: Esta medida es una combinación de las dos anteriores, su fórmula es la multiplicación de precision y recall por 2, dividido la suma de precision y recall, o en nuestro caso:\n",
        "\n",
        "(2 * 0.86 * 0.95 / (0.86 + 0.95)) = 0.90\n",
        "\n",
        "Comprobemos nuestros cálculos con las funciones de scikit-learn antes de continuar.\n"
      ],
      "metadata": {
        "id": "qMiDxsELYEQi"
      }
    },
    {
      "cell_type": "code",
      "source": [
        "from sklearn.metrics import precision_score, recall_score, f1_score\n",
        "\n",
        "print('Precision:', round(precision_score(y_test, ypred), 2))\n",
        "print('Recall:', recall_score(y_test, ypred))\n",
        "print('F1-score:', round(f1_score(y_test, ypred), 2))"
      ],
      "metadata": {
        "colab": {
          "base_uri": "https://localhost:8080/"
        },
        "id": "xfWx3ntzYc0w",
        "outputId": "a4dda852-ca6c-4a24-bc51-56554e1ae1ff"
      },
      "execution_count": 1267,
      "outputs": [
        {
          "output_type": "stream",
          "name": "stdout",
          "text": [
            "Precision: 0.86\n",
            "Recall: 0.95\n",
            "F1-score: 0.9\n"
          ]
        }
      ]
    },
    {
      "cell_type": "markdown",
      "source": [
        "Ahora, evaluemos nuevamente el desempeño de todos los modelos ya entrenados, esta vez usando el F1-score."
      ],
      "metadata": {
        "id": "CI-nEonoaUrZ"
      }
    },
    {
      "cell_type": "code",
      "source": [
        "def evaluar_f1(models):\n",
        "  results = []\n",
        "  for model in models:\n",
        "    results.append((\n",
        "        f1_score(y_train, model.predict(X_train)),\n",
        "        f1_score(y_test, model.predict(X_test)),\n",
        "    ))\n",
        "  return results\n",
        "\n",
        "results = evaluar_f1([tree, forest, extra, gradient])\n",
        "\n",
        "print('Puntajes del árbol individual\\n\\nTrain:', results[0][0],\n",
        "      '\\nTest:', results[0][1])\n",
        "print('\\nPuntajes del random forest\\n\\nTrain:', results[1][0],\n",
        "      '\\nTest:', results[1][1])\n",
        "print('\\nPuntajes del extra trees\\n\\nTrain:', results[2][0],\n",
        "      '\\nTest:', results[2][1])\n",
        "print('\\nPuntajes del gradient boosting classifier\\n\\nTrain:', results[3][0],\n",
        "      '\\nTest:', results[3][1])"
      ],
      "metadata": {
        "colab": {
          "base_uri": "https://localhost:8080/"
        },
        "id": "zx-L1RPFaKKu",
        "outputId": "2e799988-716d-4129-a5a3-37912add8e1c"
      },
      "execution_count": 1268,
      "outputs": [
        {
          "output_type": "stream",
          "name": "stdout",
          "text": [
            "Puntajes del árbol individual\n",
            "\n",
            "Train: 0.8739495798319329 \n",
            "Test: 0.8444444444444444\n",
            "\n",
            "Puntajes del random forest\n",
            "\n",
            "Train: 1.0 \n",
            "Test: 0.8444444444444444\n",
            "\n",
            "Puntajes del extra trees\n",
            "\n",
            "Train: 1.0 \n",
            "Test: 0.8571428571428572\n",
            "\n",
            "Puntajes del gradient boosting classifier\n",
            "\n",
            "Train: 1.0 \n",
            "Test: 0.9047619047619048\n"
          ]
        }
      ]
    },
    {
      "cell_type": "markdown",
      "source": [
        "Siguen siendo resultados decentes, pero ahora podemos ver más claramente los efectos del sobreajuste y el potencial de mejoría que hay en cada modelo (en especial en el Random Forest, cuyo desempeño en datos nuevos es igual o peor al del árbol individual)."
      ],
      "metadata": {
        "id": "fMpVkB0TbVZc"
      }
    },
    {
      "cell_type": "markdown",
      "source": [
        "### 3.3 Ajuste de los modelos"
      ],
      "metadata": {
        "id": "jbfK49MXg6ns"
      }
    },
    {
      "cell_type": "markdown",
      "source": [
        "Recordemos que el entrenamiento y ajuste de modelos **es un proceso iterativo**, nuestro primer modelo nunca será perfecto y, de hecho, rara vez será útil. Teniendo esto en cuenta, realizaremos una segunda iteración de entrenamientos en búsqueda de una mejoría en el puntaje F1.\n",
        "\n",
        "Entrenemos los modelos de nuevo, ahora utilizando en GridSearchCV la métrica de evaluación 'f1' e incluyendo en la búsqueda parámetros que castiguen el sobreajuste (No volveremos a entrenar el árbol individual, pues no sufre de un sobreajuste relevante y simplificarlo más afectaría negativamente su rendimiento).\n"
      ],
      "metadata": {
        "id": "fAnVzeO1hBgA"
      }
    },
    {
      "cell_type": "code",
      "source": [
        "# Código para encontrar los mejores parámetros\n",
        "\n",
        "'''\n",
        "gs = GridSearchCV(RandomForestClassifier(),\n",
        "                  {'n_estimators': [100, 150, 200],\n",
        "                   'max_depth': [7, 10, 20],\n",
        "                   'min_samples_split': [2, 5, 10],\n",
        "                   'min_samples_leaf': [1, 2, 3],\n",
        "                   'max_features': ['sqrt'],\n",
        "                   'max_samples': [0.8, 0.9]},\n",
        "                  scoring='f1')\n",
        "forest = gs.fit(X_train, y_train).best_estimator_\n",
        "'''\n",
        "\n",
        "# Entrenamiento con los parámetros encontrados\n",
        "forest = RandomForestClassifier(n_estimators=100,\n",
        "                                max_depth=10,\n",
        "                                min_samples_split=5,\n",
        "                                min_samples_leaf=1,\n",
        "                                max_features='sqrt',\n",
        "                                max_samples=0.8)\n",
        "forest.fit(X_train, y_train)"
      ],
      "metadata": {
        "colab": {
          "base_uri": "https://localhost:8080/",
          "height": 75
        },
        "id": "RS1BU4e-b1do",
        "outputId": "778f8adb-bdfc-4e79-99cf-90f96ebc8811"
      },
      "execution_count": 1269,
      "outputs": [
        {
          "output_type": "execute_result",
          "data": {
            "text/plain": [
              "RandomForestClassifier(max_depth=10, max_samples=0.8, min_samples_split=5)"
            ],
            "text/html": [
              "<style>#sk-container-id-180 {color: black;}#sk-container-id-180 pre{padding: 0;}#sk-container-id-180 div.sk-toggleable {background-color: white;}#sk-container-id-180 label.sk-toggleable__label {cursor: pointer;display: block;width: 100%;margin-bottom: 0;padding: 0.3em;box-sizing: border-box;text-align: center;}#sk-container-id-180 label.sk-toggleable__label-arrow:before {content: \"▸\";float: left;margin-right: 0.25em;color: #696969;}#sk-container-id-180 label.sk-toggleable__label-arrow:hover:before {color: black;}#sk-container-id-180 div.sk-estimator:hover label.sk-toggleable__label-arrow:before {color: black;}#sk-container-id-180 div.sk-toggleable__content {max-height: 0;max-width: 0;overflow: hidden;text-align: left;background-color: #f0f8ff;}#sk-container-id-180 div.sk-toggleable__content pre {margin: 0.2em;color: black;border-radius: 0.25em;background-color: #f0f8ff;}#sk-container-id-180 input.sk-toggleable__control:checked~div.sk-toggleable__content {max-height: 200px;max-width: 100%;overflow: auto;}#sk-container-id-180 input.sk-toggleable__control:checked~label.sk-toggleable__label-arrow:before {content: \"▾\";}#sk-container-id-180 div.sk-estimator input.sk-toggleable__control:checked~label.sk-toggleable__label {background-color: #d4ebff;}#sk-container-id-180 div.sk-label input.sk-toggleable__control:checked~label.sk-toggleable__label {background-color: #d4ebff;}#sk-container-id-180 input.sk-hidden--visually {border: 0;clip: rect(1px 1px 1px 1px);clip: rect(1px, 1px, 1px, 1px);height: 1px;margin: -1px;overflow: hidden;padding: 0;position: absolute;width: 1px;}#sk-container-id-180 div.sk-estimator {font-family: monospace;background-color: #f0f8ff;border: 1px dotted black;border-radius: 0.25em;box-sizing: border-box;margin-bottom: 0.5em;}#sk-container-id-180 div.sk-estimator:hover {background-color: #d4ebff;}#sk-container-id-180 div.sk-parallel-item::after {content: \"\";width: 100%;border-bottom: 1px solid gray;flex-grow: 1;}#sk-container-id-180 div.sk-label:hover label.sk-toggleable__label {background-color: #d4ebff;}#sk-container-id-180 div.sk-serial::before {content: \"\";position: absolute;border-left: 1px solid gray;box-sizing: border-box;top: 0;bottom: 0;left: 50%;z-index: 0;}#sk-container-id-180 div.sk-serial {display: flex;flex-direction: column;align-items: center;background-color: white;padding-right: 0.2em;padding-left: 0.2em;position: relative;}#sk-container-id-180 div.sk-item {position: relative;z-index: 1;}#sk-container-id-180 div.sk-parallel {display: flex;align-items: stretch;justify-content: center;background-color: white;position: relative;}#sk-container-id-180 div.sk-item::before, #sk-container-id-180 div.sk-parallel-item::before {content: \"\";position: absolute;border-left: 1px solid gray;box-sizing: border-box;top: 0;bottom: 0;left: 50%;z-index: -1;}#sk-container-id-180 div.sk-parallel-item {display: flex;flex-direction: column;z-index: 1;position: relative;background-color: white;}#sk-container-id-180 div.sk-parallel-item:first-child::after {align-self: flex-end;width: 50%;}#sk-container-id-180 div.sk-parallel-item:last-child::after {align-self: flex-start;width: 50%;}#sk-container-id-180 div.sk-parallel-item:only-child::after {width: 0;}#sk-container-id-180 div.sk-dashed-wrapped {border: 1px dashed gray;margin: 0 0.4em 0.5em 0.4em;box-sizing: border-box;padding-bottom: 0.4em;background-color: white;}#sk-container-id-180 div.sk-label label {font-family: monospace;font-weight: bold;display: inline-block;line-height: 1.2em;}#sk-container-id-180 div.sk-label-container {text-align: center;}#sk-container-id-180 div.sk-container {/* jupyter's `normalize.less` sets `[hidden] { display: none; }` but bootstrap.min.css set `[hidden] { display: none !important; }` so we also need the `!important` here to be able to override the default hidden behavior on the sphinx rendered scikit-learn.org. See: https://github.com/scikit-learn/scikit-learn/issues/21755 */display: inline-block !important;position: relative;}#sk-container-id-180 div.sk-text-repr-fallback {display: none;}</style><div id=\"sk-container-id-180\" class=\"sk-top-container\"><div class=\"sk-text-repr-fallback\"><pre>RandomForestClassifier(max_depth=10, max_samples=0.8, min_samples_split=5)</pre><b>In a Jupyter environment, please rerun this cell to show the HTML representation or trust the notebook. <br />On GitHub, the HTML representation is unable to render, please try loading this page with nbviewer.org.</b></div><div class=\"sk-container\" hidden><div class=\"sk-item\"><div class=\"sk-estimator sk-toggleable\"><input class=\"sk-toggleable__control sk-hidden--visually\" id=\"sk-estimator-id-180\" type=\"checkbox\" checked><label for=\"sk-estimator-id-180\" class=\"sk-toggleable__label sk-toggleable__label-arrow\">RandomForestClassifier</label><div class=\"sk-toggleable__content\"><pre>RandomForestClassifier(max_depth=10, max_samples=0.8, min_samples_split=5)</pre></div></div></div></div></div>"
            ]
          },
          "metadata": {},
          "execution_count": 1269
        }
      ]
    },
    {
      "cell_type": "code",
      "source": [
        "# Código para encontrar los mejores parámetros\n",
        "\n",
        "'''\n",
        "gs = GridSearchCV(ExtraTreesClassifier(),\n",
        "                  {'n_estimators': [100, 150, 200],\n",
        "                   'max_depth': [7, 10, 15, 20],\n",
        "                   'min_samples_split': [2, 5, 10],\n",
        "                   'min_samples_leaf': [1, 2, 5],\n",
        "                   'max_features': ['sqrt'],\n",
        "                   'max_samples': [0.7, 0.8, 0.9],\n",
        "                   'bootstrap': [True]},\n",
        "                  scoring='f1')\n",
        "extra = gs.fit(X_train, y_train).best_estimator_\n",
        "'''\n",
        "\n",
        "\n",
        "# Entrenamiento con los parámetros encontrados\n",
        "extra = ExtraTreesClassifier(n_estimators=100,\n",
        "                             max_depth=15,\n",
        "                             min_samples_split=2,\n",
        "                             min_samples_leaf=1,\n",
        "                             max_features='sqrt',\n",
        "                             max_samples=0.7,\n",
        "                             bootstrap=True)\n",
        "extra.fit(X_train, y_train)"
      ],
      "metadata": {
        "colab": {
          "base_uri": "https://localhost:8080/",
          "height": 75
        },
        "id": "gPXPJoU5Imjl",
        "outputId": "3d108a1b-a36b-493f-9b78-9f691c119cf4"
      },
      "execution_count": 1270,
      "outputs": [
        {
          "output_type": "execute_result",
          "data": {
            "text/plain": [
              "ExtraTreesClassifier(bootstrap=True, max_depth=15, max_samples=0.7)"
            ],
            "text/html": [
              "<style>#sk-container-id-181 {color: black;}#sk-container-id-181 pre{padding: 0;}#sk-container-id-181 div.sk-toggleable {background-color: white;}#sk-container-id-181 label.sk-toggleable__label {cursor: pointer;display: block;width: 100%;margin-bottom: 0;padding: 0.3em;box-sizing: border-box;text-align: center;}#sk-container-id-181 label.sk-toggleable__label-arrow:before {content: \"▸\";float: left;margin-right: 0.25em;color: #696969;}#sk-container-id-181 label.sk-toggleable__label-arrow:hover:before {color: black;}#sk-container-id-181 div.sk-estimator:hover label.sk-toggleable__label-arrow:before {color: black;}#sk-container-id-181 div.sk-toggleable__content {max-height: 0;max-width: 0;overflow: hidden;text-align: left;background-color: #f0f8ff;}#sk-container-id-181 div.sk-toggleable__content pre {margin: 0.2em;color: black;border-radius: 0.25em;background-color: #f0f8ff;}#sk-container-id-181 input.sk-toggleable__control:checked~div.sk-toggleable__content {max-height: 200px;max-width: 100%;overflow: auto;}#sk-container-id-181 input.sk-toggleable__control:checked~label.sk-toggleable__label-arrow:before {content: \"▾\";}#sk-container-id-181 div.sk-estimator input.sk-toggleable__control:checked~label.sk-toggleable__label {background-color: #d4ebff;}#sk-container-id-181 div.sk-label input.sk-toggleable__control:checked~label.sk-toggleable__label {background-color: #d4ebff;}#sk-container-id-181 input.sk-hidden--visually {border: 0;clip: rect(1px 1px 1px 1px);clip: rect(1px, 1px, 1px, 1px);height: 1px;margin: -1px;overflow: hidden;padding: 0;position: absolute;width: 1px;}#sk-container-id-181 div.sk-estimator {font-family: monospace;background-color: #f0f8ff;border: 1px dotted black;border-radius: 0.25em;box-sizing: border-box;margin-bottom: 0.5em;}#sk-container-id-181 div.sk-estimator:hover {background-color: #d4ebff;}#sk-container-id-181 div.sk-parallel-item::after {content: \"\";width: 100%;border-bottom: 1px solid gray;flex-grow: 1;}#sk-container-id-181 div.sk-label:hover label.sk-toggleable__label {background-color: #d4ebff;}#sk-container-id-181 div.sk-serial::before {content: \"\";position: absolute;border-left: 1px solid gray;box-sizing: border-box;top: 0;bottom: 0;left: 50%;z-index: 0;}#sk-container-id-181 div.sk-serial {display: flex;flex-direction: column;align-items: center;background-color: white;padding-right: 0.2em;padding-left: 0.2em;position: relative;}#sk-container-id-181 div.sk-item {position: relative;z-index: 1;}#sk-container-id-181 div.sk-parallel {display: flex;align-items: stretch;justify-content: center;background-color: white;position: relative;}#sk-container-id-181 div.sk-item::before, #sk-container-id-181 div.sk-parallel-item::before {content: \"\";position: absolute;border-left: 1px solid gray;box-sizing: border-box;top: 0;bottom: 0;left: 50%;z-index: -1;}#sk-container-id-181 div.sk-parallel-item {display: flex;flex-direction: column;z-index: 1;position: relative;background-color: white;}#sk-container-id-181 div.sk-parallel-item:first-child::after {align-self: flex-end;width: 50%;}#sk-container-id-181 div.sk-parallel-item:last-child::after {align-self: flex-start;width: 50%;}#sk-container-id-181 div.sk-parallel-item:only-child::after {width: 0;}#sk-container-id-181 div.sk-dashed-wrapped {border: 1px dashed gray;margin: 0 0.4em 0.5em 0.4em;box-sizing: border-box;padding-bottom: 0.4em;background-color: white;}#sk-container-id-181 div.sk-label label {font-family: monospace;font-weight: bold;display: inline-block;line-height: 1.2em;}#sk-container-id-181 div.sk-label-container {text-align: center;}#sk-container-id-181 div.sk-container {/* jupyter's `normalize.less` sets `[hidden] { display: none; }` but bootstrap.min.css set `[hidden] { display: none !important; }` so we also need the `!important` here to be able to override the default hidden behavior on the sphinx rendered scikit-learn.org. See: https://github.com/scikit-learn/scikit-learn/issues/21755 */display: inline-block !important;position: relative;}#sk-container-id-181 div.sk-text-repr-fallback {display: none;}</style><div id=\"sk-container-id-181\" class=\"sk-top-container\"><div class=\"sk-text-repr-fallback\"><pre>ExtraTreesClassifier(bootstrap=True, max_depth=15, max_samples=0.7)</pre><b>In a Jupyter environment, please rerun this cell to show the HTML representation or trust the notebook. <br />On GitHub, the HTML representation is unable to render, please try loading this page with nbviewer.org.</b></div><div class=\"sk-container\" hidden><div class=\"sk-item\"><div class=\"sk-estimator sk-toggleable\"><input class=\"sk-toggleable__control sk-hidden--visually\" id=\"sk-estimator-id-181\" type=\"checkbox\" checked><label for=\"sk-estimator-id-181\" class=\"sk-toggleable__label sk-toggleable__label-arrow\">ExtraTreesClassifier</label><div class=\"sk-toggleable__content\"><pre>ExtraTreesClassifier(bootstrap=True, max_depth=15, max_samples=0.7)</pre></div></div></div></div></div>"
            ]
          },
          "metadata": {},
          "execution_count": 1270
        }
      ]
    },
    {
      "cell_type": "code",
      "source": [
        "# Código para encontrar los mejores parámetros\n",
        "\n",
        "'''\n",
        "gs = GridSearchCV(GradientBoostingClassifier(),\n",
        "                  {'n_estimators': [100, 150, 200],\n",
        "                   'learning_rate': [0.01, 0.05, 0.1],\n",
        "                   'max_depth': [3, 5, 7],\n",
        "                   'min_samples_split': [3, 5, 10],\n",
        "                   'min_samples_leaf': [2, 4, 6],\n",
        "                   'subsample': [0.8, 1.0]},\n",
        "                  scoring='f1')\n",
        "gradient = gs.fit(X_train, y_train).best_estimator_\n",
        "'''\n",
        "\n",
        "# Entrenamiento con los parámetros encontrados\n",
        "gradient = GradientBoostingClassifier(n_estimators=200,\n",
        "                                      learning_rate=0.01,\n",
        "                                      max_depth=3,\n",
        "                                      min_samples_split=3,\n",
        "                                      min_samples_leaf=2,\n",
        "                                      subsample=1.0)\n",
        "gradient.fit(X_train, y_train)"
      ],
      "metadata": {
        "colab": {
          "base_uri": "https://localhost:8080/",
          "height": 92
        },
        "id": "HVOz5pznIqa2",
        "outputId": "73f6d897-5c73-40d3-ea89-bba9c886f25a"
      },
      "execution_count": 1271,
      "outputs": [
        {
          "output_type": "execute_result",
          "data": {
            "text/plain": [
              "GradientBoostingClassifier(learning_rate=0.01, min_samples_leaf=2,\n",
              "                           min_samples_split=3, n_estimators=200)"
            ],
            "text/html": [
              "<style>#sk-container-id-182 {color: black;}#sk-container-id-182 pre{padding: 0;}#sk-container-id-182 div.sk-toggleable {background-color: white;}#sk-container-id-182 label.sk-toggleable__label {cursor: pointer;display: block;width: 100%;margin-bottom: 0;padding: 0.3em;box-sizing: border-box;text-align: center;}#sk-container-id-182 label.sk-toggleable__label-arrow:before {content: \"▸\";float: left;margin-right: 0.25em;color: #696969;}#sk-container-id-182 label.sk-toggleable__label-arrow:hover:before {color: black;}#sk-container-id-182 div.sk-estimator:hover label.sk-toggleable__label-arrow:before {color: black;}#sk-container-id-182 div.sk-toggleable__content {max-height: 0;max-width: 0;overflow: hidden;text-align: left;background-color: #f0f8ff;}#sk-container-id-182 div.sk-toggleable__content pre {margin: 0.2em;color: black;border-radius: 0.25em;background-color: #f0f8ff;}#sk-container-id-182 input.sk-toggleable__control:checked~div.sk-toggleable__content {max-height: 200px;max-width: 100%;overflow: auto;}#sk-container-id-182 input.sk-toggleable__control:checked~label.sk-toggleable__label-arrow:before {content: \"▾\";}#sk-container-id-182 div.sk-estimator input.sk-toggleable__control:checked~label.sk-toggleable__label {background-color: #d4ebff;}#sk-container-id-182 div.sk-label input.sk-toggleable__control:checked~label.sk-toggleable__label {background-color: #d4ebff;}#sk-container-id-182 input.sk-hidden--visually {border: 0;clip: rect(1px 1px 1px 1px);clip: rect(1px, 1px, 1px, 1px);height: 1px;margin: -1px;overflow: hidden;padding: 0;position: absolute;width: 1px;}#sk-container-id-182 div.sk-estimator {font-family: monospace;background-color: #f0f8ff;border: 1px dotted black;border-radius: 0.25em;box-sizing: border-box;margin-bottom: 0.5em;}#sk-container-id-182 div.sk-estimator:hover {background-color: #d4ebff;}#sk-container-id-182 div.sk-parallel-item::after {content: \"\";width: 100%;border-bottom: 1px solid gray;flex-grow: 1;}#sk-container-id-182 div.sk-label:hover label.sk-toggleable__label {background-color: #d4ebff;}#sk-container-id-182 div.sk-serial::before {content: \"\";position: absolute;border-left: 1px solid gray;box-sizing: border-box;top: 0;bottom: 0;left: 50%;z-index: 0;}#sk-container-id-182 div.sk-serial {display: flex;flex-direction: column;align-items: center;background-color: white;padding-right: 0.2em;padding-left: 0.2em;position: relative;}#sk-container-id-182 div.sk-item {position: relative;z-index: 1;}#sk-container-id-182 div.sk-parallel {display: flex;align-items: stretch;justify-content: center;background-color: white;position: relative;}#sk-container-id-182 div.sk-item::before, #sk-container-id-182 div.sk-parallel-item::before {content: \"\";position: absolute;border-left: 1px solid gray;box-sizing: border-box;top: 0;bottom: 0;left: 50%;z-index: -1;}#sk-container-id-182 div.sk-parallel-item {display: flex;flex-direction: column;z-index: 1;position: relative;background-color: white;}#sk-container-id-182 div.sk-parallel-item:first-child::after {align-self: flex-end;width: 50%;}#sk-container-id-182 div.sk-parallel-item:last-child::after {align-self: flex-start;width: 50%;}#sk-container-id-182 div.sk-parallel-item:only-child::after {width: 0;}#sk-container-id-182 div.sk-dashed-wrapped {border: 1px dashed gray;margin: 0 0.4em 0.5em 0.4em;box-sizing: border-box;padding-bottom: 0.4em;background-color: white;}#sk-container-id-182 div.sk-label label {font-family: monospace;font-weight: bold;display: inline-block;line-height: 1.2em;}#sk-container-id-182 div.sk-label-container {text-align: center;}#sk-container-id-182 div.sk-container {/* jupyter's `normalize.less` sets `[hidden] { display: none; }` but bootstrap.min.css set `[hidden] { display: none !important; }` so we also need the `!important` here to be able to override the default hidden behavior on the sphinx rendered scikit-learn.org. See: https://github.com/scikit-learn/scikit-learn/issues/21755 */display: inline-block !important;position: relative;}#sk-container-id-182 div.sk-text-repr-fallback {display: none;}</style><div id=\"sk-container-id-182\" class=\"sk-top-container\"><div class=\"sk-text-repr-fallback\"><pre>GradientBoostingClassifier(learning_rate=0.01, min_samples_leaf=2,\n",
              "                           min_samples_split=3, n_estimators=200)</pre><b>In a Jupyter environment, please rerun this cell to show the HTML representation or trust the notebook. <br />On GitHub, the HTML representation is unable to render, please try loading this page with nbviewer.org.</b></div><div class=\"sk-container\" hidden><div class=\"sk-item\"><div class=\"sk-estimator sk-toggleable\"><input class=\"sk-toggleable__control sk-hidden--visually\" id=\"sk-estimator-id-182\" type=\"checkbox\" checked><label for=\"sk-estimator-id-182\" class=\"sk-toggleable__label sk-toggleable__label-arrow\">GradientBoostingClassifier</label><div class=\"sk-toggleable__content\"><pre>GradientBoostingClassifier(learning_rate=0.01, min_samples_leaf=2,\n",
              "                           min_samples_split=3, n_estimators=200)</pre></div></div></div></div></div>"
            ]
          },
          "metadata": {},
          "execution_count": 1271
        }
      ]
    },
    {
      "cell_type": "code",
      "source": [
        "results = evaluar_f1([forest, extra, gradient])\n",
        "\n",
        "print('\\nPuntajes del random forest\\n\\nTrain:', results[0][0],\n",
        "      '\\nTest:', results[0][1])\n",
        "print('\\nPuntajes del extra trees\\n\\nTrain:', results[1][0],\n",
        "      '\\nTest:', results[1][1])\n",
        "print('\\nPuntajes del gradient boosting classifier\\n\\nTrain:', results[2][0],\n",
        "      '\\nTest:', results[2][1])"
      ],
      "metadata": {
        "colab": {
          "base_uri": "https://localhost:8080/"
        },
        "id": "Kznes7U7IyaY",
        "outputId": "5a220a76-be6b-4148-d137-827ade8b3619"
      },
      "execution_count": 1272,
      "outputs": [
        {
          "output_type": "stream",
          "name": "stdout",
          "text": [
            "\n",
            "Puntajes del random forest\n",
            "\n",
            "Train: 0.9203539823008849 \n",
            "Test: 0.8636363636363635\n",
            "\n",
            "Puntajes del extra trees\n",
            "\n",
            "Train: 0.9649122807017544 \n",
            "Test: 0.8780487804878048\n",
            "\n",
            "Puntajes del gradient boosting classifier\n",
            "\n",
            "Train: 0.9203539823008849 \n",
            "Test: 0.9047619047619048\n"
          ]
        }
      ]
    },
    {
      "cell_type": "markdown",
      "source": [
        "Los nuevos parámetros que castigan más el sobreajuste lograron resultados interesantes y, hasta cierto punto, inesperados. Analicemos los cambios que se presentaron en cada uno de los modelos:\n",
        "\n",
        "* Random Forest logró un mejor desempeño en general, reduciendo su puntaje f1 en el DataFrame de entrenamiento, pero mejorando su puntaje en el de testing. Se logra el objetivo, sin embargo, no llega a tener un rendimiento tan bueno como el del Gradient Boosting Classifier.\n",
        "\n",
        "* Extra Trees es un caso interesante, pues si bien añadir nuevos parámetros parece haber mejorado su desempeño en el DataFrame de testeo y reducir su desempeño en el de entrenamiento, **este no es siempre el caso**, pues la implementación de los parámetros 'max_samples' y 'bootstrap' le añaden aleatoriedad a un modelo que ya de por sí es aleatorio e inconsistente. Como consecuencia, cada vez que entrenemos el modelo tendrá un resultado diferente.\n",
        "\n",
        "* Gradient Boosting Classifier nos demuestra algo: el modelo no puede mejorar más a menos de que memorice cada entrada. Por más que se reduzca la complejidad del modelo, hay un subconjunto de datos que simplemente no podrá predecir apropiadamente a menos de que los haya visto antes. Analizaremos esto más a fondo en la sección de conclusiones de este Notebook.\n",
        "\n",
        "Utilizaremos estos modelos -en especial gradient- para nuestro análisis de resultados y conclusiones."
      ],
      "metadata": {
        "id": "rR3xLU_T5ai6"
      }
    },
    {
      "cell_type": "markdown",
      "source": [
        "## 4. Análisis de resultados"
      ],
      "metadata": {
        "id": "2bCjFsQ98wzv"
      }
    },
    {
      "cell_type": "markdown",
      "source": [
        "Primero realizaremos una comparación entre los tres modelos, posteriormente, utilizaremos el modelo con mejor desempeño para realizar predicciones y analizaremos estas predicciones."
      ],
      "metadata": {
        "id": "XjB_pO_L9Kdo"
      }
    },
    {
      "cell_type": "markdown",
      "source": [
        "### 4.1 Selección de modelo"
      ],
      "metadata": {
        "id": "my1ub-d4Qn5k"
      }
    },
    {
      "cell_type": "markdown",
      "source": [
        "Graficaremos el puntaje F1 obtenido anteriormente para una mejor visualización"
      ],
      "metadata": {
        "id": "AYKZ70yzQsEB"
      }
    },
    {
      "cell_type": "code",
      "source": [
        "results = pd.DataFrame(results,\n",
        "                       index=['Forest', 'Extra', 'Gradient'],\n",
        "                       columns=['Train', 'Test'])\n",
        "print(results)"
      ],
      "metadata": {
        "colab": {
          "base_uri": "https://localhost:8080/"
        },
        "id": "_wNa_tCg2RwF",
        "outputId": "7ad53152-82ad-436c-a79d-3e04b843e211"
      },
      "execution_count": 1273,
      "outputs": [
        {
          "output_type": "stream",
          "name": "stdout",
          "text": [
            "             Train      Test\n",
            "Forest    0.920354  0.863636\n",
            "Extra     0.964912  0.878049\n",
            "Gradient  0.920354  0.904762\n"
          ]
        }
      ]
    },
    {
      "cell_type": "code",
      "source": [
        "sns.barplot(x=results.index, y=results['Train'])\n",
        "plt.title('Puntajes de entrenamiento')\n",
        "plt.xlabel('Modelo')\n",
        "plt.ylabel('Puntaje F1')"
      ],
      "metadata": {
        "colab": {
          "base_uri": "https://localhost:8080/",
          "height": 489
        },
        "id": "I-biO6gyAYXQ",
        "outputId": "deef46a1-6337-4bb1-db97-a6f63613afb5"
      },
      "execution_count": 1274,
      "outputs": [
        {
          "output_type": "execute_result",
          "data": {
            "text/plain": [
              "Text(0, 0.5, 'Puntaje F1')"
            ]
          },
          "metadata": {},
          "execution_count": 1274
        },
        {
          "output_type": "display_data",
          "data": {
            "text/plain": [
              "<Figure size 640x480 with 1 Axes>"
            ],
            "image/png": "[encoded data removed]"
          },
          "metadata": {}
        }
      ]
    },
    {
      "cell_type": "code",
      "source": [
        "sns.barplot(data=results, y='Test', x=results.index)\n",
        "plt.title('Puntajes de testing')\n",
        "plt.xlabel('Modelo')\n",
        "plt.ylabel('Puntaje F1')"
      ],
      "metadata": {
        "id": "NHDLhk15_5LZ",
        "colab": {
          "base_uri": "https://localhost:8080/",
          "height": 489
        },
        "outputId": "d63b189f-994c-40da-ce13-571ef13f5fe8"
      },
      "execution_count": 1275,
      "outputs": [
        {
          "output_type": "execute_result",
          "data": {
            "text/plain": [
              "Text(0, 0.5, 'Puntaje F1')"
            ]
          },
          "metadata": {},
          "execution_count": 1275
        },
        {
          "output_type": "display_data",
          "data": {
            "text/plain": [
              "<Figure size 640x480 with 1 Axes>"
            ],
            "image/png": "[encoded data removed]"
          },
          "metadata": {}
        }
      ]
    },
    {
      "cell_type": "markdown",
      "source": [
        "Los puntajes de entrenamiento están bastante dispersos, pero en los puntajes de testing hay un claro ganador: el Gradient Boosting Classifier. Por lo tanto, utilizaremos este modelo para realizar predicciones sobre nuestro dataset inicial preprocesado, así podremos observar mejor cuáles son los casos puntuales en los que se equivoca, sacar conclusiones de esto y elaborar planes a futuro en caso de que quisiéramos seguir refinando el modelo.\n",
        "\n",
        "**Puede** que, en algunas iteraciones, el modelo Extra Trees tenga mejor desempeño en entrenamiento e igual desempeño en testing que el modelo gradient, sin embargo, su aleatoriedad lo hace inviable. Aun así, si durante el entrenamiento conseguimos una versión muy buena del Extra Trees y la queremos guardar, podemos hacerlo con la librería pickle, utilizando el siguiente código:"
      ],
      "metadata": {
        "id": "Hu807ATgC0bR"
      }
    },
    {
      "cell_type": "code",
      "source": [
        "import pickle\n",
        "\n",
        "\n",
        "print(extra)\n",
        "\n",
        "# Código para guardar el modelo usando Pickle\n",
        "with open('extra_trees.pkl', 'wb') as f:\n",
        "  pickle.dump(extra, f)\n",
        "\n",
        "# Código para cargar el modelo usando Pickle\n",
        "with open('extra_trees.pkl', 'rb') as f:\n",
        "  extra = pickle.load(f)\n",
        "\n",
        "print(extra)"
      ],
      "metadata": {
        "colab": {
          "base_uri": "https://localhost:8080/"
        },
        "id": "g78iKuxkHITS",
        "outputId": "560cd423-7cdb-4a38-bd33-877f53676e96"
      },
      "execution_count": 1276,
      "outputs": [
        {
          "output_type": "stream",
          "name": "stdout",
          "text": [
            "ExtraTreesClassifier(bootstrap=True, max_depth=15, max_samples=0.7)\n",
            "ExtraTreesClassifier(bootstrap=True, max_depth=15, max_samples=0.7)\n"
          ]
        }
      ]
    },
    {
      "cell_type": "markdown",
      "source": [
        "Antes de proceder, hay algo más que debemos de analizar: los coeficientes aprendidos por el modelo. Estos coeficientes representan la importancia de las características de cada entrada para las predicciones realizadas.\n",
        "\n",
        "Es importante conocer estos coeficientes en caso de que queramos hacer iteraciones posteriores o reducir la dimensionalidad de nuestro DataFrame, pues una característica con un valor muy bajo de coeficiente puede estar aportando únicamente ruido al modelo."
      ],
      "metadata": {
        "id": "_usXGFWFSnml"
      }
    },
    {
      "cell_type": "code",
      "source": [
        "coeficients = pd.DataFrame(gradient.feature_importances_,\n",
        "                           index=gradient.feature_names_in_,\n",
        "                           columns=['coeficientes'])\n",
        "print(coeficients)"
      ],
      "metadata": {
        "colab": {
          "base_uri": "https://localhost:8080/"
        },
        "id": "E9hmUQN3VfKb",
        "outputId": "686dcfc2-1d00-41ad-a540-4968377c5653"
      },
      "execution_count": 1277,
      "outputs": [
        {
          "output_type": "stream",
          "name": "stdout",
          "text": [
            "            coeficientes\n",
            "total           0.904326\n",
            "hp              0.022308\n",
            "attack          0.048207\n",
            "defense         0.001007\n",
            "sp_attack       0.009508\n",
            "sp_defense      0.013414\n",
            "speed           0.001229\n"
          ]
        }
      ]
    },
    {
      "cell_type": "markdown",
      "source": [
        "'defense' y 'speed' no parecen estar aportando mucho al modelo, probablemente podríamos desecharlas sin perder rendimiento, sin embargo, las conservaremos para tener todas las estadísticas de combate del Dataset original y hacer las predicciones más sencillas de redactar.\n",
        "\n",
        "Ahora, utilicemos el modelo gradient para realizar predicciones y analicémoslas."
      ],
      "metadata": {
        "id": "vqkUpnnOIQIX"
      }
    },
    {
      "cell_type": "markdown",
      "source": [
        "### 4.2 Predicciónes y análisis"
      ],
      "metadata": {
        "id": "5y9M3MY5Q1h_"
      }
    },
    {
      "cell_type": "markdown",
      "source": [
        "Realizaremos las predicciones sobre el Dataframe preprocesado original, df, para analizar el desempeño del modelo y, especialmente, para observar los puntos donde se equivocó.\n",
        "\n",
        "Después de calcular algunas medidas como la matriz de confusión y el puntaje F1, recopilaremos la información que nos brindan."
      ],
      "metadata": {
        "id": "EGUC3B74SZNt"
      }
    },
    {
      "cell_type": "code",
      "source": [
        "df['prediction'] = gradient.predict(df.loc[:,'total':'speed'])\n",
        "\n",
        "print(df)"
      ],
      "metadata": {
        "colab": {
          "base_uri": "https://localhost:8080/"
        },
        "id": "63_gXjQjIh3m",
        "outputId": "3a8c6a01-c9f4-47e4-92d3-3f96d839aa98"
      },
      "execution_count": 1278,
      "outputs": [
        {
          "output_type": "stream",
          "name": "stdout",
          "text": [
            "      number        name     type1   type2  total   hp  attack  defense  \\\n",
            "0          1   Bulbasaur     Grass  Poison    318   45      49       49   \n",
            "1          2     Ivysaur     Grass  Poison    405   60      62       63   \n",
            "2          3    Venusaur     Grass  Poison    525   80      82       83   \n",
            "5          4  Charmander      Fire    None    309   39      52       43   \n",
            "6          5  Charmeleon      Fire    None    405   58      64       58   \n",
            "...      ...         ...       ...     ...    ...  ...     ...      ...   \n",
            "1065     894   Regieleki  Electric    None    580   80     100       50   \n",
            "1066     895   Regidrago    Dragon    None    580  200     100       50   \n",
            "1067     896   Glastrier       Ice    None    580  100     145      130   \n",
            "1068     897   Spectrier     Ghost    None    580  100      65       60   \n",
            "1069     898     Calyrex   Psychic   Grass    500  100      80       80   \n",
            "\n",
            "      sp_attack  sp_defense  speed generation  legendary  prediction  \n",
            "0            65          65     45          1      False       False  \n",
            "1            80          80     60          1      False       False  \n",
            "2           100         100     80          1      False       False  \n",
            "5            60          50     65          1      False       False  \n",
            "6            80          65     80          1      False       False  \n",
            "...         ...         ...    ...        ...        ...         ...  \n",
            "1065        100          50    200          8       True        True  \n",
            "1066        100          50     80          8       True        True  \n",
            "1067         65         110     30          8       True        True  \n",
            "1068        145          80    130          8       True        True  \n",
            "1069         80          80     80          8       True       False  \n",
            "\n",
            "[862 rows x 14 columns]\n"
          ]
        }
      ]
    },
    {
      "cell_type": "markdown",
      "source": [
        "Primero, observemos la nueva matriz de confusión que se forma cuando tomamos todo el Dataset en consideración."
      ],
      "metadata": {
        "id": "oLRdTXKTuQ01"
      }
    },
    {
      "cell_type": "code",
      "source": [
        "matrix = confusion_matrix(df['legendary'], df['prediction'])\n",
        "display = ConfusionMatrixDisplay(confusion_matrix=matrix,\n",
        "                                 display_labels=gradient.classes_)\n",
        "display.plot()"
      ],
      "metadata": {
        "colab": {
          "base_uri": "https://localhost:8080/",
          "height": 466
        },
        "id": "DkmDV_t3uX1B",
        "outputId": "e0347db9-7cd9-4a1e-96b6-c15f3f158f96"
      },
      "execution_count": 1279,
      "outputs": [
        {
          "output_type": "execute_result",
          "data": {
            "text/plain": [
              "<sklearn.metrics._plot.confusion_matrix.ConfusionMatrixDisplay at 0x7e5c0f164bb0>"
            ]
          },
          "metadata": {},
          "execution_count": 1279
        },
        {
          "output_type": "display_data",
          "data": {
            "text/plain": [
              "<Figure size 640x480 with 2 Axes>"
            ],
            "image/png": "[encoded data removed]"
          },
          "metadata": {}
        }
      ]
    },
    {
      "cell_type": "markdown",
      "source": [
        "Calculemos también el nuevo puntaje F1."
      ],
      "metadata": {
        "id": "DmWpjeSMv7ag"
      }
    },
    {
      "cell_type": "code",
      "source": [
        "print(f1_score(df['legendary'], df['prediction']))"
      ],
      "metadata": {
        "colab": {
          "base_uri": "https://localhost:8080/"
        },
        "id": "OdIVAi2BwIYK",
        "outputId": "b85e6ec4-5ae8-4312-8f2f-bc33cdc8d271"
      },
      "execution_count": 1280,
      "outputs": [
        {
          "output_type": "stream",
          "name": "stdout",
          "text": [
            "0.9161290322580645\n"
          ]
        }
      ]
    },
    {
      "cell_type": "markdown",
      "source": [
        "Ahora, observemos los casos en que el modelo **se equivocó**"
      ],
      "metadata": {
        "id": "c_RW7MH6rlvx"
      }
    },
    {
      "cell_type": "code",
      "source": [
        "errores = df[df['legendary'] != df['prediction']]\n",
        "\n",
        "print('cantidad total de errores:', len(errores),'\\n')\n",
        "print(errores)"
      ],
      "metadata": {
        "colab": {
          "base_uri": "https://localhost:8080/"
        },
        "id": "Zc9m6oIcr_AF",
        "outputId": "b5af9bd6-c664-4a1a-aa53-02a3d99f2b22"
      },
      "execution_count": 1281,
      "outputs": [
        {
          "output_type": "stream",
          "name": "stdout",
          "text": [
            "cantidad total de errores: 13 \n",
            "\n",
            "      number                         name     type1     type2  total   hp  \\\n",
            "538      445                     Garchomp    Dragon    Ground    600  108   \n",
            "592      489                       Phione     Water      None    480   80   \n",
            "677      567                     Archeops      Rock    Flying    567   75   \n",
            "747      635                    Hydreigon      Dark    Dragon    600   92   \n",
            "846      718            Zygarde 10% Forme    Dragon    Ground    486   54   \n",
            "923      784                      Kommo-O    Dragon  Fighting    600   75   \n",
            "928      789                       Cosmog   Psychic      None    200   43   \n",
            "929      790                      Cosmoem   Psychic      None    400   43   \n",
            "950      808                       Meltan     Steel      None    300   46   \n",
            "1051     887                    Dragapult    Dragon     Ghost    600   88   \n",
            "1058     891                        Kubfu  Fighting      None    385   60   \n",
            "1059     892  Urshifu Single Strike Style  Fighting      Dark    550  100   \n",
            "1069     898                      Calyrex   Psychic     Grass    500  100   \n",
            "\n",
            "      attack  defense  sp_attack  sp_defense  speed generation  legendary  \\\n",
            "538      130       95         80          85    102          4      False   \n",
            "592       80       80         80          80     80          4       True   \n",
            "677      140       65        112          65    110          5      False   \n",
            "747      105       90        125          90     98          5      False   \n",
            "846      100       71         61          85    115          6       True   \n",
            "923      110      125        100         105     85          7      False   \n",
            "928       29       31         29          31     37          7       True   \n",
            "929       29      131         29         131     37          7       True   \n",
            "950       65       65         55          35     34          7       True   \n",
            "1051     120       75        100          75    142          8      False   \n",
            "1058      90       60         53          50     72          8       True   \n",
            "1059     130      100         63          60     97          8       True   \n",
            "1069      80       80         80          80     80          8       True   \n",
            "\n",
            "      prediction  \n",
            "538         True  \n",
            "592        False  \n",
            "677         True  \n",
            "747         True  \n",
            "846        False  \n",
            "923         True  \n",
            "928        False  \n",
            "929        False  \n",
            "950        False  \n",
            "1051        True  \n",
            "1058       False  \n",
            "1059       False  \n",
            "1069       False  \n"
          ]
        }
      ]
    },
    {
      "cell_type": "markdown",
      "source": [
        "Finalmente, compilemos toda la información que estas medidas nos brindan:\n",
        "\n",
        "* El modelo tiene una mayor tendencia a clasificar Pokémones legendarios como comunes, que a clasificar comunes como legendarios. Esto significa que tiene mayor precisión que recall. Sin embargo, observando los valores específicos que dejó pasar como comunes, podemos ver que varios de ellos son pre-evoluciones o fases iniciales -es decir, Pokémones legendarios débiles por diseño- (Zygarde 10%, Cosmog, Cosmoem, Meltan, Kubfu, Calyrex) mientras otros como Urshifu y Phione son simplemente débiles.\n",
        "\n",
        "* Los Pokémones comunes a los que clasificó como legendarios tienen estadísticas sumamente altas. Para poder diferenciarlos de los legendarios necesitaríamos un modelo más complejo y un Dataset más completo con información como, por ejemplo, sus habilidades y ataques.\n",
        "\n",
        "* Incluso utilizando la métrica F1, que tiene en cuenta el desbalance de clases, obtenemos un puntaje bastante decente. Este puntaje podría ser mejorado ajustando el modelo para que tenga un mejor desempeño con los datos de entrenamiento, pero esto afectaría negativamente su capacidad para generalizar que, verdaderamente, es el objetivo del modelo."
      ],
      "metadata": {
        "id": "vRMndkL3wxDA"
      }
    },
    {
      "cell_type": "markdown",
      "source": [
        "## 5. Conclusiones"
      ],
      "metadata": {
        "id": "1xicBVNW69Yu"
      }
    },
    {
      "cell_type": "markdown",
      "source": [
        "Estos son algunos de los logros que conseguimos a lo largo de este proyecto:\n",
        "\n",
        "* Realizamos un preprocesamiento a profundidad de un Dataset desbalanceado, aplicando técnicas de análisis estadístico; realizando análisis exploratorio de datos; imputando valores faltantes; identificando y eliminando valores atípicos; preparando datos de tipo categóricos y, finalmente, preparando el Dataset para poder entrenar apropiadamente los modelos.\n",
        "\n",
        "* Entrenamos tres modelos diferentes a lo largo de dos iteraciones, lidiando con el problema del sobreajuste sin simplificar demasiado los modelos; hicimos comparaciones entre estos teniendo en cuenta el desbalance y utilizando las métricas apropiadas; escogimos un modelo consistente, con un buen desempeño en el DataFrame de prueba y una buena capacidad de generalización.\n",
        "\n",
        "* Realizamos predicciones con el modelo de mejor rendimiento; observamos su matriz de confusión para encontrar las tendencias dentro de sus errores; analizamos sus errores y encontramos sus causas.\n",
        "\n",
        "Finalmente, logramos entrenar un modelo con un puntaje F1 del 0.91, una medida bastante buena considerando el tamaño relativamente reducido del Dataset inicial. Además, logramos observar que el modelo tiene una buena capacidad para encontrar outliers (Pokémones comunes con estadísticas tan altas como las de los legendarios).\n",
        "\n",
        "El objetivo del proyecto fue logrado: construimos un modelo funcional que logra predicciones acertadas rápidamente y con relativamente poca información. Los objetivos educacionales del proyecto también fueron alcanzados, pues se encontraron, explicaron y resolvieron múltiples situaciones problema a lo largo del preprocesamiento y entrenamiento del modelo."
      ],
      "metadata": {
        "id": "_KcG1Z008NGZ"
      }
    },
    {
      "cell_type": "markdown",
      "source": [
        "_______________________\n",
        "\n",
        "Este proyecto cubrió muchas de las bases necesarias para el diseño de modelos de Machine Learning, sin embargo, todavía quedan más temas y situaciones problema que no encontramos en este DataFrame ni con estos modelos, es por esto que siempre es necesario seguir practicando y aprendiendo.\n",
        "\n",
        "Como un reto adicional para el lector, podría intentar entrenar otros modelos no basados en árboles de decisión con este mismo Dataset y observar los cambios en rendimiento y tiempo de entrenamiento."
      ],
      "metadata": {
        "id": "p1hTJ7QNGNA_"
      }
    }
  ],
  "metadata": {
    "colab": {
      "provenance": []
    },
    "kernelspec": {
      "display_name": "Python 3",
      "name": "python3"
    },
    "language_info": {
      "name": "python"
    }
  },
  "nbformat": 4,
  "nbformat_minor": 0
}